{
 "cells": [
  {
   "cell_type": "markdown",
   "metadata": {},
   "source": [
    "# <center>Ayudantía 1: ¿Por qué Python?</center></h1>"
   ]
  },
  {
   "cell_type": "markdown",
   "metadata": {},
   "source": [
    "- Razones de peso\n",
    "\n",
    "- Razones prácticas\n",
    "\n",
    "- librerias"
   ]
  },
  {
   "cell_type": "markdown",
   "metadata": {},
   "source": [
    "# Libros de Cocina"
   ]
  },
  {
   "cell_type": "markdown",
   "metadata": {},
   "source": [
    "Algunos ejemplos:\n",
    "    \n",
    "- [Pandas Cookbook](https://pandas.pydata.org/pandas-docs/stable/user_guide/cookbook.html)\n",
    "\n",
    "- [Numpy Cookbook](https://scipy-cookbook.readthedocs.io/items/idx_numpy.html)\n",
    "\n",
    "- [Pyomo Cookbook](https://github.com/jckantor/ND-Pyomo-Cookbook/blob/master/notebooks/toc.md)\n",
    "\n",
    "- [Matplotlib Cookbook](https://matplotlib.org/3.3.1/contents.html)\n",
    "\n",
    "- [Sklearn (scikit) Cookbook](https://github.com/PacktPublishing/scikit-learn-Cookbook-Second-Edition)"
   ]
  },
  {
   "cell_type": "markdown",
   "metadata": {},
   "source": [
    "# Interpretes v/s jupyter ¿Cual usar? "
   ]
  },
  {
   "cell_type": "markdown",
   "metadata": {},
   "source": [
    "# Un problema de Criptografía para empezar\n",
    "\n",
    "Este ejercició nos resultará útil para recordar aspectos básicos de programación en pythona través de la implementación de \n",
    "<img src=\"img1.webp\">\n",
    "\n",
    "\n",
    "En esta ayudantía el Profesor Francisco Alfaro quiere que descifremos un mensaje encriptado:\n",
    "\n",
    "\"nvdip fyjup b njt bmvnopt ftuf tfnftusf dpo tvt sbnpt\"\n",
    "\n",
    "\n",
    "Con la ayuda de un criptoanalísis básico hemos descubrierto que el Profesor utilizó una variante de encriptación César por lo que se sugiere el siguiente procedimiento:\n",
    "\n",
    "1) Planificar modelo.\n",
    "\n",
    "2) Implementar.\n",
    "\n",
    "3) Probar.\n",
    "\n",
    "4) Resolver problema.\n",
    "\n",
    "5) Optimizar Código.\n",
    "\n",
    "¿Por qué es importante estructura de datos en este tipo de problemas?"
   ]
  },
  {
   "cell_type": "code",
   "execution_count": 34,
   "metadata": {},
   "outputs": [
    {
     "data": {
      "text/plain": [
       "'mucho exito a mis alumnos este semestre con sus ramos'"
      ]
     },
     "execution_count": 34,
     "metadata": {},
     "output_type": "execute_result"
    }
   ],
   "source": [
    "alfabeto_ascii = list(map(chr,range(97,123)))\n",
    "def cripto_ceasar(num):\n",
    "    return (num + 6)%26+97\n",
    "\n",
    "def cripto(msn_cript):\n",
    "    oracion_no_cripto = list()\n",
    "    oracion_cripto = list(map(list,msn_cript.strip().split()))\n",
    "    for palabra_cripto in oracion_cripto:\n",
    "        # pasamos a ascii, aplicamos la clave criptografica, y devolvemos a caracter\n",
    "        #ejmplo m----ord()--->110----cripto_ceaser()---->109------chr()------>n\n",
    "        oracion_no_cripto.append(\"\".join(list(map(chr,list(map(cripto_ceasar,list(map(ord, palabra_cripto))))))))\n",
    "    return \" \".join(oracion_no_cripto)\n",
    "cripto(\"nvdip fyjup b njt bmvnopt ftuf tfnftusf dpo tvt sbnpt\")"
   ]
  },
  {
   "cell_type": "markdown",
   "metadata": {},
   "source": [
    "# Numpy: Una librebría de Algebra lineal para Python\n",
    "\n",
    "En este ejercicio le daremos una utilidad a la librería para el cálculo de matriz inversa y diagonalización. Dado que este es un ejercicio de ejemplo nos daremos una Matriz de 2$\\times$2.\n",
    " \n",
    "\n",
    "$$A = \\begin{pmatrix} 1&2\\\\ 3&1\\\\ \\end{pmatrix}$$\n",
    "\n",
    "Empezaremos por importar la librería:"
   ]
  },
  {
   "cell_type": "code",
   "execution_count": null,
   "metadata": {},
   "outputs": [],
   "source": [
    "import numpy as np"
   ]
  },
  {
   "cell_type": "markdown",
   "metadata": {},
   "source": [
    "Definiremos nuestras variables"
   ]
  },
  {
   "cell_type": "markdown",
   "metadata": {},
   "source": [
    "Usaremos la función np.linalg.inv() para invertir"
   ]
  },
  {
   "cell_type": "markdown",
   "metadata": {},
   "source": [
    "Use el comando en este link para calcular los valores propios [Click aqui](https://docs.scipy.org/doc/scipy/reference/generated/scipy.linalg.eig.html)"
   ]
  },
  {
   "cell_type": "markdown",
   "metadata": {},
   "source": [
    "# Referencias\n",
    "\n",
    "- [What is Python?](https://www.python.org/doc/essays/blurb/)\n",
    "\n",
    "- [7 Reasons why python is important](https://medium.com/@mindfiresolutions.usa/python-7-important-reasons-why-you-should-use-python-5801a98a0d0b)\n",
    "\n",
    "- [Why python is best suited for machine learning](https://www.geeksforgeeks.org/why-is-python-the-best-suited-programming-language-for-machine-learning/)\n",
    "\n",
    "- [Top 10 lenguajes de programación más demandados](https://youtu.be/mdh7RJVi1_E)\n",
    "\n",
    "- [Why your company needs python](https://www.datacamp.com/community/blog/why-your-company-needs-python-for-business-analytics)\n",
    "\n",
    "- [Python Carreer Oportunities](https://medium.com/edureka/python-career-opportunities-a2500ce158de)\n"
   ]
  }
 ],
 "metadata": {
  "kernelspec": {
   "display_name": "Python 3",
   "language": "python",
   "name": "python3"
  },
  "language_info": {
   "codemirror_mode": {
    "name": "ipython",
    "version": 3
   },
   "file_extension": ".py",
   "mimetype": "text/x-python",
   "name": "python",
   "nbconvert_exporter": "python",
   "pygments_lexer": "ipython3",
   "version": "3.8.3"
  }
 },
 "nbformat": 4,
 "nbformat_minor": 4
}
