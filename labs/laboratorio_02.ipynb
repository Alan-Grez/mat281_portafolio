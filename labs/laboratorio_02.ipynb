{
 "cells": [
  {
   "cell_type": "markdown",
   "metadata": {},
   "source": [
    "<img src=\"images/usm.jpg\" width=\"480\" height=\"240\" align=\"left\"/>"
   ]
  },
  {
   "cell_type": "markdown",
   "metadata": {},
   "source": [
    "# MAT281 - Laboratorio N°02\n",
    "\n",
    "## Objetivos de la clase\n",
    "\n",
    "* Reforzar los conceptos básicos de numpy."
   ]
  },
  {
   "cell_type": "markdown",
   "metadata": {},
   "source": [
    "## Contenidos\n",
    "\n",
    "* [Problema 01](#p1)\n",
    "* [Problema 02](#p2)\n",
    "* [Problema 03](#p3)"
   ]
  },
  {
   "cell_type": "code",
   "execution_count": 1,
   "metadata": {},
   "outputs": [],
   "source": [
    "import numpy as np"
   ]
  },
  {
   "cell_type": "markdown",
   "metadata": {},
   "source": [
    "<a id='p1'></a>\n",
    "\n",
    "## Problema 01\n",
    "\n",
    "Una **media móvil simple** (SMA) es el promedio de los últimos $k$ datos anteriores, es decir, sea $a_1$,$a_2$,...,$a_n$ un arreglo $n$-dimensional, entonces la SMA se define por:\n",
    "\n",
    "$$sma(k) =\\dfrac{1}{k}(a_{n}+a_{n-1}+...+a_{n-(k-1)}) = \\dfrac{1}{k}\\sum_{i=0}^{k-1}a_{n-i}  $$ \n",
    "\n",
    "\n",
    "Por otro lado podemos definir el SMA con una venta móvil de $n$ si el resultado nos retorna la el promedio ponderado avanzando de la siguiente forma:\n",
    "\n",
    "* $a = [1,2,3,4,5]$, la SMA con una ventana de $n=2$ sería:\n",
    "\n",
    "\n",
    "    * sma(2): [mean(1,2),mean(2,3),mean(3,4)] = [1.5, 2.5, 3.5, 4.5]\n",
    "    * sma(3): [mean(1,2,3),mean(2,3,4),mean(3,4,5)] = [2.,3.,4.]\n",
    "\n",
    "\n",
    "Implemente una función llamada `sma` cuyo input sea un arreglo unidimensional $a$ y un entero $n$, y cuyo ouput retorne el valor de la media móvil simple sobre el arreglo de la siguiente forma:\n",
    "\n",
    "* **Ejemplo**: *sma([5,3,8,10,2,1,5,1,0,2], 2)* = $[4. , 5.5, 9. , 6. , 1.5, 3. , 3. , 0.5, 1. ]$\n",
    "\n",
    "En este caso, se esta calculando el SMA para un arreglo con una ventana de $n=2$.\n",
    "\n",
    "**Hint**: utilice la función `numpy.cumsum`"
   ]
  },
  {
   "cell_type": "code",
   "execution_count": 27,
   "metadata": {},
   "outputs": [
    {
     "data": {
      "text/plain": [
       "[1.5, 2.5, 3.5, 4.5]"
      ]
     },
     "execution_count": 27,
     "metadata": {},
     "output_type": "execute_result"
    }
   ],
   "source": [
    "def sma(lista, n):\n",
    "    \"\"\"\n",
    "    sma(lista,n)\n",
    "\n",
    "    Calcula el promedio de n datos a lo largo de una lista\n",
    "\n",
    "    Parameters\n",
    "    ----------\n",
    "    lista: list\n",
    "        Lista a calculador promedios\n",
    "        \n",
    "    n : int\n",
    "        Ventana de términos\n",
    "\n",
    "    Returns\n",
    "    -------\n",
    "    output : list\n",
    "        Promedios calculados\n",
    "        \n",
    "    Examples\n",
    "    --------\n",
    "    >>> sma([1,2,3,4,5], 2)\n",
    "    sma([1,2,3,4,5], 2)\n",
    "    \"\"\"\n",
    "    sol = np.empty(len(lista)+1-n)\n",
    "    aux = np.empty(len(lista)+1)\n",
    "    aux[0] =np.array([0])\n",
    "    aux[1:]=np.cumsum(lista)\n",
    "    for i in range(0, len(lista)+1-n):\n",
    "        sol[i]=(aux[i+n]-aux[i])/n\n",
    "    return list(sol)\n",
    "\n",
    "sma([1,2,3,4,5], 2)"
   ]
  },
  {
   "cell_type": "markdown",
   "metadata": {},
   "source": [
    "<a id='p2'></a>\n",
    "\n",
    "## Problema 02\n",
    "\n",
    "La función **strides($a,n,p$)**, corresponde a transformar un arreglo unidimensional $a$ en una matriz de $n$ columnas, en el cual las filas se van construyendo desfasando la posición del arreglo en $p$ pasos hacia adelante.\n",
    "\n",
    "* Para el arreglo unidimensional $a$ = [ 1,  2,  3,  4,  5,  6,  7,  8,  9, 10], la función strides($a,4,2$), corresponde a crear una matriz de $4$ columnas, cuyos desfaces hacia adelante se hacen de dos en dos. \n",
    "\n",
    "El resultado tendría que ser algo así:$$\\begin{pmatrix}\n",
    " 1& 2 &3 &4 \\\\ \n",
    " 3&  4&5&6 \\\\ \n",
    " 5& 6 &7 &8 \\\\ \n",
    " 7& 8 &9 &10 \\\\ \n",
    "\\end{pmatrix}$$\n",
    "\n",
    "\n",
    "Implemente una función llamada `strides(a,4,2)` cuyo input sea un arreglo unidimensional y retorne la matriz de $4$ columnas, cuyos desfaces hacia adelante se hacen de dos en dos. \n",
    "\n",
    "* **Ejemplo**: *strides($a$,4,2)* =$\\begin{pmatrix}\n",
    " 1& 2 &3 &4 \\\\ \n",
    " 3&  4&5&6 \\\\ \n",
    " 5& 6 &7 &8 \\\\ \n",
    " 7& 8 &9 &10 \\\\ \n",
    "\\end{pmatrix}$\n"
   ]
  },
  {
   "cell_type": "code",
   "execution_count": 187,
   "metadata": {},
   "outputs": [],
   "source": [
    "def strides(lista, n, p):\n",
    "    \"\"\"\n",
    "    strides(lista,n, p)\n",
    "\n",
    "    Redimensiona una lista en una matriz de n columnas\n",
    "\n",
    "    Parameters\n",
    "    ----------\n",
    "    lista: list\n",
    "        Lista a redimensionar\n",
    "        \n",
    "    n : int\n",
    "        número de columnas\n",
    "        \n",
    "    p: paso de repetición\n",
    "\n",
    "    Returns\n",
    "    -------\n",
    "    output : list\n",
    "        matriz buscada\n",
    "        \n",
    "    Examples\n",
    "    --------\n",
    "    >>> strides( [ 1, 2, 3, 4, 5, 6, 7, 8, 9, 10],4,2)\n",
    "    [[1, 2, 3, 4], [3, 4, 5, 6], [5, 6, 7, 8], [7, 8, 9, 10]]\n",
    "    \"\"\"\n",
    "    matrix=[]\n",
    "    lista_aux = np.zeros(len(lista)+len(lista)%p)\n",
    "    for i in range(len(lista)):\n",
    "        lista_aux[i]=lista[i]\n",
    "    for i in range((len(lista_aux)-n)//p+1):\n",
    "        matrix.append(list(lista_aux[i*p:n+i*p]))\n",
    "    return matrix"
   ]
  },
  {
   "cell_type": "code",
   "execution_count": 188,
   "metadata": {},
   "outputs": [
    {
     "data": {
      "text/plain": [
       "[[1.0, 2.0, 3.0, 4.0], [5.0, 6.0, 7.0, 8.0], [9.0, 10.0, 0.0, 0.0]]"
      ]
     },
     "execution_count": 188,
     "metadata": {},
     "output_type": "execute_result"
    }
   ],
   "source": [
    "strides( [ 1, 2, 3, 4, 5, 6, 7, 8, 9, 10],4,4)"
   ]
  },
  {
   "cell_type": "markdown",
   "metadata": {},
   "source": [
    "<a id='p3'></a>\n",
    "\n",
    "## Problema 03\n",
    "\n",
    "\n",
    "Un **cuadrado mágico** es una matriz de tamaño $n \\times n$ de números enteros positivos tal que \n",
    "la suma de los números por columnas, filas y diagonales principales sea la misma. Usualmente, los números empleados para rellenar las casillas son consecutivos, de 1 a $n^2$, siendo $n$ el número de columnas y filas del cuadrado mágico.\n",
    "\n",
    "Si los números son consecutivos de 1 a $n^2$, la suma de los números por columnas, filas y diagonales principales \n",
    "es igual a : $$M_{n} = \\dfrac{n(n^2+1)}{2}$$\n",
    "Por ejemplo, \n",
    "\n",
    "* $A= \\begin{pmatrix}\n",
    " 4& 9 &2 \\\\ \n",
    " 3&  5&7 \\\\ \n",
    " 8& 1 &6 \n",
    "\\end{pmatrix}$,\n",
    "es un cuadrado mágico.\n",
    "\n",
    "* $B= \\begin{pmatrix}\n",
    " 4& 2 &9 \\\\ \n",
    " 3&  5&7 \\\\ \n",
    " 8& 1 &6 \n",
    "\\end{pmatrix}$, no es un cuadrado mágico.\n",
    "\n",
    "Implemente una función llamada `es_cudrado_magico` cuyo input sea una matriz cuadrada de tamaño $n$ con números consecutivos de $1$ a $n^2$ y cuyo ouput retorne *True* si es un cuadrado mágico o 'False', en caso contrario\n",
    "\n",
    "* **Ejemplo**: *es_cudrado_magico($A$)* = True, *es_cudrado_magico($B$)* = False\n",
    "\n",
    "**Hint**: Cree una función que valide la mariz es cuadrada y  que sus números son consecutivos del 1 a $n^2$."
   ]
  },
  {
   "cell_type": "code",
   "execution_count": 163,
   "metadata": {
    "scrolled": true
   },
   "outputs": [],
   "source": [
    "def es_cuadrado_magico(matrix):\n",
    "    \"\"\"\n",
    "    es_cuadrado_magico(matrix)\n",
    "\n",
    "    Determina si una matriz es o no un cuadrado mágico.\n",
    "\n",
    "    Parameters\n",
    "    ----------\n",
    "    matrix: list\n",
    "        Matriz a corroborar\n",
    "\n",
    "    Returns\n",
    "    -------\n",
    "    output : boolean\n",
    "        Valor de verdad sobre si matrix es cuadrado mágico\n",
    "        \n",
    "    Examples\n",
    "    --------\n",
    "    >>> es_cuadrado_magico([[4,9,2],[3,5,7],[8,1,6]])\n",
    "    True\n",
    "    \n",
    "    >>> es_cuadrado_magico([[4,2,9],[3,5,7],[8,1,6]])\n",
    "    False\n",
    "    \"\"\"\n",
    "    matrix = np.array(matrix)\n",
    "    n = len(matrix)\n",
    "    #Validamos que la matriz sea cuadrada\n",
    "    if np.shape(matrix) !=  (n,n):\n",
    "        return False\n",
    "    \n",
    "    #Parte que valida si son numeros consecutivos del 1 al n^2\n",
    "    aux = np.arange(1,len(matrix)**2+1)\n",
    "    uni_matrix = matrix.ravel()\n",
    "    for i in uni_matrix:\n",
    "        if i not in aux:\n",
    "            return False\n",
    "    \n",
    "    #Parte que valida si es cuadrado mágico\n",
    "    if matrix.sum(axis=1).all() != matrix.sum(axis=0).all(): #filas v/s columnas.\n",
    "          return False\n",
    "    if np.trace(matrix) == np.trace(np.fliplr(matrix)) == n*(n**2+1)//2:\n",
    "        return True\n",
    "    return False\n"
   ]
  },
  {
   "cell_type": "code",
   "execution_count": 164,
   "metadata": {},
   "outputs": [
    {
     "data": {
      "text/plain": [
       "True"
      ]
     },
     "execution_count": 164,
     "metadata": {},
     "output_type": "execute_result"
    }
   ],
   "source": [
    "es_cuadrado_magico([[4,9,2],[3,5,7],[8,1,6]])"
   ]
  },
  {
   "cell_type": "code",
   "execution_count": 165,
   "metadata": {},
   "outputs": [
    {
     "data": {
      "text/plain": [
       "False"
      ]
     },
     "execution_count": 165,
     "metadata": {},
     "output_type": "execute_result"
    }
   ],
   "source": [
    "es_cuadrado_magico([[4,2,9],[3,5,7],[8,1,6]])"
   ]
  }
 ],
 "metadata": {
  "kernelspec": {
   "display_name": "Python 3",
   "language": "python",
   "name": "python3"
  },
  "language_info": {
   "codemirror_mode": {
    "name": "ipython",
    "version": 3
   },
   "file_extension": ".py",
   "mimetype": "text/x-python",
   "name": "python",
   "nbconvert_exporter": "python",
   "pygments_lexer": "ipython3",
   "version": "3.8.3"
  }
 },
 "nbformat": 4,
 "nbformat_minor": 4
}
