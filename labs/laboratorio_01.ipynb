{
 "cells": [
  {
   "cell_type": "markdown",
   "metadata": {},
   "source": [
    "<img src=\"images/usm.jpg\" width=\"480\" height=\"240\" align=\"left\"/>"
   ]
  },
  {
   "cell_type": "markdown",
   "metadata": {},
   "source": [
    "# MAT281 - Laboratorio N°01\n",
    "\n",
    "## Objetivos de la clase\n",
    "\n",
    "* Reforzar los conceptos básicos de python."
   ]
  },
  {
   "cell_type": "markdown",
   "metadata": {},
   "source": [
    "## Contenidos\n",
    "\n",
    "* [Problema 01](#p1)\n",
    "* [Problema 02](#p2)\n",
    "* [Problema 03](#p3)\n",
    "* [Problema 04](#p4)\n"
   ]
  },
  {
   "cell_type": "markdown",
   "metadata": {},
   "source": [
    "<a id='p1'></a>\n",
    "\n",
    "## Problema 01\n",
    "\n",
    "### a) Calcular el número $\\pi$\n",
    "\n",
    "En los siglos XVII y XVIII, James Gregory y Gottfried Leibniz descubrieron una serie infinita que sirve para calcular $\\pi$:\n",
    "\n",
    "$$\\pi = 4 \\sum_{k=1}^{\\infty}\\dfrac{(-1)^{k+1}}{2k-1} = 4(1-\\dfrac{1}{3}+\\dfrac{1}{5}-\\dfrac{1}{7} + ...) $$\n",
    "\n",
    "Desarolle un programa para estimar el valor de $\\pi$ ocupando el método de Leibniz, donde la entrada del programa debe ser un número entero $n$ que indique cuántos términos de la suma se utilizará.\n",
    "\n",
    "\n",
    "* **Ejemplo**: *calcular_pi(3)* = 3.466666666666667, *calcular_pi(1000)* = 3.140592653839794\n"
   ]
  },
  {
   "cell_type": "code",
   "execution_count": 1,
   "metadata": {},
   "outputs": [],
   "source": [
    "def calcular_pi(n:int)->float:\n",
    "    \n",
    "    \"\"\"\n",
    "    calcular_pi(n)\n",
    "\n",
    "    Aproximacion del valor de pi mediante el método de Leibniz\n",
    "\n",
    "    Parameters\n",
    "    ----------\n",
    "    n : int\n",
    "        Numero de terminos.\n",
    "\n",
    "    Returns\n",
    "    -------\n",
    "    output : float\n",
    "        Valor aproximado de pi.\n",
    "        \n",
    "    Examples\n",
    "    --------\n",
    "    >>> calcular_pi(3)\n",
    "    3.466666666666667\n",
    "    \n",
    "    >>> calcular_pi(1000) \n",
    "    3.140592653839794\n",
    "    \"\"\"\n",
    "    \n",
    "    pi = 0 # valor incial \n",
    "    for k in range(1,n+1):\n",
    "        numerador = (-1)**(k+1) # numerador de la iteracion i\n",
    "        denominador = 2*k-1  # denominador de la iteracion i\n",
    "        pi+=numerador/denominador # suma hasta el i-esimo termino\n",
    "    \n",
    "    return 4*pi"
   ]
  },
  {
   "cell_type": "code",
   "execution_count": 2,
   "metadata": {},
   "outputs": [
    {
     "name": "stdout",
     "output_type": "stream",
     "text": [
      "Help on function calcular_pi in module __main__:\n",
      "\n",
      "calcular_pi(n: int) -> float\n",
      "    calcular_pi(n)\n",
      "    \n",
      "    Aproximacion del valor de pi mediante el método de Leibniz\n",
      "    \n",
      "    Parameters\n",
      "    ----------\n",
      "    n : int\n",
      "        Numero de terminos.\n",
      "    \n",
      "    Returns\n",
      "    -------\n",
      "    output : float\n",
      "        Valor aproximado de pi.\n",
      "        \n",
      "    Examples\n",
      "    --------\n",
      "    >>> calcular_pi(3)\n",
      "    3.466666666666667\n",
      "    \n",
      "    >>> calcular_pi(1000) \n",
      "    3.140592653839794\n",
      "\n"
     ]
    }
   ],
   "source": [
    "# Acceso a la documentación\n",
    "help(calcular_pi)"
   ]
  },
  {
   "cell_type": "code",
   "execution_count": 3,
   "metadata": {},
   "outputs": [
    {
     "data": {
      "text/plain": [
       "3.466666666666667"
      ]
     },
     "execution_count": 3,
     "metadata": {},
     "output_type": "execute_result"
    }
   ],
   "source": [
    "# ejemplo 01\n",
    "calcular_pi(3)"
   ]
  },
  {
   "cell_type": "code",
   "execution_count": 4,
   "metadata": {},
   "outputs": [
    {
     "data": {
      "text/plain": [
       "3.140592653839794"
      ]
     },
     "execution_count": 4,
     "metadata": {},
     "output_type": "execute_result"
    }
   ],
   "source": [
    "# ejemplo 02\n",
    "calcular_pi(1000) "
   ]
  },
  {
   "cell_type": "markdown",
   "metadata": {},
   "source": [
    "**Observación**:\n",
    "\n",
    "* Note que si corre la línea de comando `calcular_pi(3.0)` le mandará un error ... ¿ por qué ?\n",
    "* En los laboratorio, no se pide ser tan meticuloso con la documentacion.\n",
    "* Lo primero es definir el código, correr los ejemplos  y  luego documentar correctamente."
   ]
  },
  {
   "cell_type": "markdown",
   "metadata": {},
   "source": [
    "### b) Calcular el número $e$\n",
    "\n",
    "Euler realizó varios aportes en relación a $e$, pero no fue hasta 1748 cuando publicó su **Introductio in analysin infinitorum** que dio un tratamiento definitivo a las ideas sobre $e$. Allí mostró que:\n",
    "\n",
    "\n",
    "En los siglos XVII y XVIII, James Gregory y Gottfried Leibniz descubrieron una serie infinita que sirve para calcular π:\n",
    "\n",
    "$$e = \\sum_{k=0}^{\\infty}\\dfrac{1}{k!} = 1+\\dfrac{1}{2!}+\\dfrac{1}{3!}+\\dfrac{1}{4!} + ... $$\n",
    "\n",
    "Desarolle un programa para estimar el valor de $e$ ocupando el método de Euler, donde la entrada del programa debe ser un número entero $n$ que indique cuántos términos de la suma se utilizará.\n",
    "\n",
    "\n",
    "* **Ejemplo**: *calcular_e(3)* =2.5, *calcular_e(1000)* = 2.7182818284590455"
   ]
  },
  {
   "cell_type": "code",
   "execution_count": 5,
   "metadata": {},
   "outputs": [],
   "source": [
    "def factorial(i):\n",
    "    if i == 0:\n",
    "        return 1\n",
    "    return i*factorial(i-1)\n",
    "    \n",
    "def calcular_euler(n):\n",
    "    \"\"\"\n",
    "    calcular_euler(n)\n",
    "\n",
    "    Aproximacion del valor de euler mediante el método de Leibniz\n",
    "\n",
    "    Parameters\n",
    "    ----------\n",
    "    n : int\n",
    "        Numero de terminos.\n",
    "\n",
    "    Returns\n",
    "    -------\n",
    "    output : float\n",
    "        Valor aproximado de euler.\n",
    "        \n",
    "    Examples\n",
    "    --------\n",
    "    >>> calcular_euler(3)\n",
    "    2.5\n",
    "    \n",
    "    >>> calcular_euler(1000) \n",
    "    2.7182818284590455\n",
    "    \"\"\"\n",
    "    lista = []\n",
    "    for i in range(n):\n",
    "        lista.append( 1/factorial(i) )\n",
    "    return sum(lista)"
   ]
  },
  {
   "cell_type": "code",
   "execution_count": 6,
   "metadata": {},
   "outputs": [
    {
     "data": {
      "text/plain": [
       "2.5"
      ]
     },
     "execution_count": 6,
     "metadata": {},
     "output_type": "execute_result"
    }
   ],
   "source": [
    "# Ejemplo 1\n",
    "calcular_euler(3)"
   ]
  },
  {
   "cell_type": "code",
   "execution_count": 7,
   "metadata": {},
   "outputs": [
    {
     "data": {
      "text/plain": [
       "2.7182818284590455"
      ]
     },
     "execution_count": 7,
     "metadata": {},
     "output_type": "execute_result"
    }
   ],
   "source": [
    "# Ejemplo 2\n",
    "calcular_euler(1000)"
   ]
  },
  {
   "cell_type": "markdown",
   "metadata": {},
   "source": [
    "<a id='p2'></a>\n",
    "\n",
    "## Problema 02\n",
    "\n",
    "\n",
    "Sea $\\sigma(n)$ definido como la suma de los divisores propios de $n$ (números menores que n que se dividen en $n$).\n",
    "\n",
    "Los [números amigos](https://en.wikipedia.org/wiki/Amicable_numbers) son  enteros positivos $n_1$ y $n_2$ tales que la suma de los divisores propios de uno es igual al otro número y viceversa, es decir, $\\sigma(n_1)=\\sigma(n_2)$ y $\\sigma(n_2)=\\sigma(n_1)$.\n",
    "\n",
    "\n",
    "Por ejemplo, los números 220 y 284 son números amigos.\n",
    "* los divisores propios de 220 son 1, 2, 4, 5, 10, 11, 20, 22, 44, 55 y 110; por lo tanto $\\sigma(220) = 284$. \n",
    "* los divisores propios de 284 son 1, 2, 4, 71 y 142; entonces $\\sigma(284) = 220$.\n",
    "\n",
    "\n",
    "Implemente una función llamada `amigos` cuyo input sean dos números naturales $n_1$ y $n_2$, cuyo output sea verifique si los números son amigos o no.\n",
    "\n",
    "* **Ejemplo**: *amigos(220,284)* = True, *amigos(6,5)* = False\n"
   ]
  },
  {
   "cell_type": "code",
   "execution_count": 11,
   "metadata": {},
   "outputs": [],
   "source": [
    "def sigma(n):\n",
    "    \"\"\"\n",
    "    sigma(n)\n",
    "\n",
    "    Suma de los divisores propios de n\n",
    "\n",
    "    Parameters\n",
    "    ----------\n",
    "    n : int\n",
    "        Numero de terminos.\n",
    "\n",
    "    Returns\n",
    "    -------\n",
    "    output : int\n",
    "        Valor suma divisores propios de n\n",
    "        \n",
    "    Examples\n",
    "    --------\n",
    "    >>> sigma(3)\n",
    "    1\n",
    "    \n",
    "    >>> sigma(1000) \n",
    "    1340\n",
    "    \"\"\"\n",
    "    aux = []\n",
    "    for i in range(1,n):\n",
    "        if n%i == 0:\n",
    "            aux.append(i)\n",
    "    return sum(aux)\n",
    "\n",
    "\n",
    "\n",
    "def amigxs(n1, n2):\n",
    "     \"\"\"\n",
    "    amigxs(n)\n",
    "\n",
    "    Determina si dos números son amigos\n",
    "\n",
    "    Parameters\n",
    "    ----------\n",
    "    n1, n2: int\n",
    "            Números a determinar si son amigos o no.\n",
    "\n",
    "    Returns\n",
    "    -------\n",
    "    output : Boolean\n",
    "        True o False según sean números amigxs o no, respectivamente\n",
    "        \n",
    "    Examples\n",
    "    --------\n",
    "    >>> amigxs(220,284)\n",
    "    True\n",
    "    \n",
    "    >>> amigxs(6,5) \n",
    "    False\n",
    "    \"\"\"\n",
    "    if sigma(n1) == n2 and sigma(n2)== n1:\n",
    "        return True\n",
    "    return False"
   ]
  },
  {
   "cell_type": "code",
   "execution_count": 37,
   "metadata": {},
   "outputs": [
    {
     "data": {
      "text/plain": [
       "True"
      ]
     },
     "execution_count": 37,
     "metadata": {},
     "output_type": "execute_result"
    }
   ],
   "source": [
    "amigxs(220, 284)"
   ]
  },
  {
   "cell_type": "code",
   "execution_count": 38,
   "metadata": {},
   "outputs": [
    {
     "data": {
      "text/plain": [
       "False"
      ]
     },
     "execution_count": 38,
     "metadata": {},
     "output_type": "execute_result"
    }
   ],
   "source": [
    "amigxs(6,5)"
   ]
  },
  {
   "cell_type": "markdown",
   "metadata": {},
   "source": [
    "<a id='p3'></a>\n",
    "\n",
    "## Problema 03\n",
    "\n",
    "La [conjetura de Collatz](https://en.wikipedia.org/wiki/Collatz_conjecture), conocida también como conjetura $3n+1$ o conjetura de Ulam (entre otros nombres), fue enunciada por el matemático Lothar Collatz en 1937, y a la fecha no se ha resuelto.\n",
    "\n",
    "Sea la siguiente operación, aplicable a cualquier número entero positivo:\n",
    "* Si el número es par, se divide entre 2.\n",
    "* Si el número es impar, se multiplica por 3 y se suma 1.\n",
    "\n",
    "La conjetura dice que siempre alcanzaremos el 1 (y por tanto el ciclo 4, 2, 1) para cualquier número con el que comencemos. \n",
    "\n",
    "Implemente una función llamada `collatz` cuyo input sea un número natural positivo $N$ y como output devulva la secuencia de números hasta llegar a 1.\n",
    "\n",
    "* **Ejemplo**: *collatz(9)* = [9, 28, 14, 7, 22, 11, 34, 17, 52, 26, 13, 40, 20, 10, 5, 16, 8, 4, 2, 1]"
   ]
  },
  {
   "cell_type": "code",
   "execution_count": 8,
   "metadata": {},
   "outputs": [],
   "source": [
    "def collatz( n: int, lista=[] ):\n",
    "    \"\"\"\n",
    "    collatz(n, lista=[])\n",
    "\n",
    "    Determina si dos números son amigos\n",
    "\n",
    "    Parameters\n",
    "    ----------\n",
    "    n1: int\n",
    "        Número a calcular su secuencia de collatz\n",
    "    lista: list\n",
    "        Lista auxiliar, parámetro por defecto.\n",
    "\n",
    "    Returns\n",
    "    -------\n",
    "    output : Boolean\n",
    "        True o False según sean números amigxs o no, respectivamente\n",
    "        \n",
    "    Examples\n",
    "    --------\n",
    "    >>> collatz(9)\n",
    "    [9, 28, 14, 7, 22, 11, 34, 17, 52, 26, 13, 40, 20, 10, 5, 16, 8, 4, 2, 1]\n",
    "    \"\"\"\n",
    "    if n == 1:\n",
    "        lista.append(int(n))\n",
    "        return lista  \n",
    "    lista.append(int(n))\n",
    "    if n%2 == 0:\n",
    "        return collatz(n/2, lista)\n",
    "    if n%2 != 0:\n",
    "        return collatz(3*n + 1, lista)    "
   ]
  },
  {
   "cell_type": "code",
   "execution_count": 9,
   "metadata": {},
   "outputs": [
    {
     "data": {
      "text/plain": [
       "[9, 28, 14, 7, 22, 11, 34, 17, 52, 26, 13, 40, 20, 10, 5, 16, 8, 4, 2, 1]"
      ]
     },
     "execution_count": 9,
     "metadata": {},
     "output_type": "execute_result"
    }
   ],
   "source": [
    "collatz(9)"
   ]
  },
  {
   "cell_type": "markdown",
   "metadata": {},
   "source": [
    "<a id='p4'></a>\n",
    "\n",
    "## Problema 04\n",
    "\n",
    "La [conjetura de Goldbach](https://en.wikipedia.org/wiki/Goldbach%27s_conjecture) es uno de los problemas abiertos más antiguos en matemáticas. Concretamente, G.H. Hardy, en 1921, en su famoso discurso pronunciado en la Sociedad Matemática de Copenhague, comentó que probablemente la conjetura de Goldbach no es solo uno de los problemas no resueltos más difíciles de la teoría de números, sino de todas las matemáticas. Su enunciado es el siguiente:\n",
    "\n",
    "$$\\textrm{Todo número par mayor que 2 puede escribirse como suma de dos números primos - Christian Goldbach (1742)}$$\n",
    "\n",
    "Implemente una función llamada `goldbach` cuyo input sea un número natural positivo $N$ y como output devuelva la suma de dos primos ($N1$ y $N2$) tal que: $N1+N2=N$. \n",
    "\n",
    " * **Ejemplo**: goldbash(4) = (2,2), goldbash(6) = (3,3) , goldbash(8) = (3,5)"
   ]
  },
  {
   "cell_type": "code",
   "execution_count": 2,
   "metadata": {},
   "outputs": [],
   "source": [
    "def primo(p:int):\n",
    "    \"\"\"\n",
    "    primo(p)\n",
    "\n",
    "    Determina si un número p es primo.\n",
    "\n",
    "    Parameters\n",
    "    ----------\n",
    "    p: int\n",
    "        Número a determinar si es primo o no\n",
    "\n",
    "    Returns\n",
    "    -------\n",
    "    output : Boolean\n",
    "        True o False según sea p número primo o no, respectivamente\n",
    "        \n",
    "    Examples\n",
    "    --------\n",
    "    >>> primo(13)\n",
    "    True\n",
    "    >>> primo(9)\n",
    "    False\n",
    "    \"\"\"\n",
    "    for i in range(2,p):\n",
    "        if p%i == 0:\n",
    "            return False\n",
    "    return True\n",
    "\n",
    "\n",
    "\n",
    "def goldbach(n):\n",
    "    \"\"\"\n",
    "    goldbach(p)\n",
    "\n",
    "    Determina una tupla de numeros primos para n>2 tal que su suma es n.\n",
    "\n",
    "    Parameters\n",
    "    ----------\n",
    "    n: int\n",
    "        Número a calcular dicha tupla existe\n",
    "\n",
    "    Returns\n",
    "    -------\n",
    "    output : ( , ) tuple\n",
    "        Retorna una tupla con el par de números primos que suman n.\n",
    "             False Boolean\n",
    "        Retorna falso si no se cumple con las hipótesis del problema.\n",
    "        \n",
    "    Examples\n",
    "    --------\n",
    "    >>> goldbach(4)\n",
    "    (2, 2)\n",
    "    >>> goldbach(1000000)\n",
    "    (17, 999983)\n",
    "    \"\"\"\n",
    "    if n>2:\n",
    "        for p in range(2, n//2+1):\n",
    "            if primo(p) and primo (n-p):\n",
    "                return (p,n-p)\n",
    "    return False"
   ]
  },
  {
   "cell_type": "code",
   "execution_count": 7,
   "metadata": {},
   "outputs": [
    {
     "data": {
      "text/plain": [
       "(3, 47)"
      ]
     },
     "execution_count": 7,
     "metadata": {},
     "output_type": "execute_result"
    }
   ],
   "source": [
    "goldbach(50)"
   ]
  },
  {
   "cell_type": "code",
   "execution_count": 3,
   "metadata": {},
   "outputs": [
    {
     "data": {
      "text/plain": [
       "(3, 3)"
      ]
     },
     "execution_count": 3,
     "metadata": {},
     "output_type": "execute_result"
    }
   ],
   "source": [
    "goldbach(6)"
   ]
  }
 ],
 "metadata": {
  "kernelspec": {
   "display_name": "Python 3",
   "language": "python",
   "name": "python3"
  },
  "language_info": {
   "codemirror_mode": {
    "name": "ipython",
    "version": 3
   },
   "file_extension": ".py",
   "mimetype": "text/x-python",
   "name": "python",
   "nbconvert_exporter": "python",
   "pygments_lexer": "ipython3",
   "version": "3.8.3"
  }
 },
 "nbformat": 4,
 "nbformat_minor": 4
}
