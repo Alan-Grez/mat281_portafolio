{
 "cells": [
  {
   "cell_type": "markdown",
   "metadata": {},
   "source": [
    "\n",
    "# Tarea N°02\n",
    "## Instrucciones\n",
    "1.- Completa tus datos personales (nombre y rol USM) en siguiente celda.\n",
    "\n",
    "**Nombre**: Alan Grez Jimenez\n",
    "\n",
    "**Rol**: 201710519-4\n",
    "\n",
    "2.- Debes pushear este archivo con tus cambios a tu repositorio personal del curso, incluyendo datos, imágenes, scripts, etc.\n",
    "\n",
    "3.- Se evaluará:\n",
    "\n",
    "- Soluciones\n",
    "- Código\n",
    "- Que Binder esté bien configurado.\n",
    "- Al presionar  `Kernel -> Restart Kernel and Run All Cells` deben ejecutarse todas las celdas sin error."
   ]
  },
  {
   "cell_type": "markdown",
   "metadata": {},
   "source": [
    "## I.- Clasificación de dígitos\n",
    "\n",
    "\n",
    "En este laboratorio realizaremos el trabajo de reconocer un dígito a partir de una imagen.\n"
   ]
  },
  {
   "cell_type": "markdown",
   "metadata": {},
   "source": [
    "![rgb](https://www.wolfram.com/language/11/neural-networks/assets.en/digit-classification/smallthumb_1.png)"
   ]
  },
  {
   "cell_type": "markdown",
   "metadata": {},
   "source": [
    "El objetivo es a partir de los datos, hacer la mejor predicción de cada imagen. Para ellos es necesario realizar los pasos clásicos de un proyecto de _Machine Learning_, como estadística descriptiva, visualización y preprocesamiento. \n",
    "\n",
    "* Se solicita ajustar al menos tres modelos de clasificación:\n",
    " * Regresión logística\n",
    " * K-Nearest Neighbours \n",
    " * Uno o más algoritmos a su elección [link](https://scikit-learn.org/stable/supervised_learning.html#supervised-learning) (es obligación escoger un _estimator_ que tenga por lo menos un hiperparámetro). \n",
    " \n",
    " \n",
    "* En los modelos que posean hiperparámetros es mandatorio buscar el/los mejores con alguna técnica disponible en `scikit-learn` ([ver más](https://scikit-learn.org/stable/modules/grid_search.html#tuning-the-hyper-parameters-of-an-estimator)).\n",
    "* Para cada modelo, se debe realizar _Cross Validation_ con 10 _folds_ utilizando los datos de entrenamiento con tal de determinar un intervalo de confianza para el _score_ del modelo.\n",
    "* Realizar una predicción con cada uno de los tres modelos con los datos _test_ y obtener el _score_. \n",
    "* Analizar sus métricas de error (**accuracy**, **precision**, **recall**, **f-score**)\n",
    "\n"
   ]
  },
  {
   "cell_type": "markdown",
   "metadata": {},
   "source": [
    "### Exploración de los datos\n",
    "A continuación se carga el conjunto de datos a utilizar, a través del sub-módulo `datasets` de `sklearn`."
   ]
  },
  {
   "cell_type": "code",
   "execution_count": 1,
   "metadata": {},
   "outputs": [],
   "source": [
    "import numpy as np\n",
    "import pandas as pd\n",
    "from sklearn import datasets\n",
    "import matplotlib.pyplot as plt\n",
    "import missingno as msno\n",
    "import time\n",
    "import warnings\n",
    "warnings.filterwarnings('ignore')\n",
    "\n",
    "%matplotlib inline"
   ]
  },
  {
   "cell_type": "code",
   "execution_count": 2,
   "metadata": {},
   "outputs": [
    {
     "name": "stdout",
     "output_type": "stream",
     "text": [
      ".. _digits_dataset:\n",
      "\n",
      "Optical recognition of handwritten digits dataset\n",
      "--------------------------------------------------\n",
      "\n",
      "**Data Set Characteristics:**\n",
      "\n",
      "    :Number of Instances: 5620\n",
      "    :Number of Attributes: 64\n",
      "    :Attribute Information: 8x8 image of integer pixels in the range 0..16.\n",
      "    :Missing Attribute Values: None\n",
      "    :Creator: E. Alpaydin (alpaydin '@' boun.edu.tr)\n",
      "    :Date: July; 1998\n",
      "\n",
      "This is a copy of the test set of the UCI ML hand-written digits datasets\n",
      "https://archive.ics.uci.edu/ml/datasets/Optical+Recognition+of+Handwritten+Digits\n",
      "\n",
      "The data set contains images of hand-written digits: 10 classes where\n",
      "each class refers to a digit.\n",
      "\n",
      "Preprocessing programs made available by NIST were used to extract\n",
      "normalized bitmaps of handwritten digits from a preprinted form. From a\n",
      "total of 43 people, 30 contributed to the training set and different 13\n",
      "to the test set. 32x32 bitmaps are divided into nonoverlapping blocks of\n",
      "4x4 and the number of on pixels are counted in each block. This generates\n",
      "an input matrix of 8x8 where each element is an integer in the range\n",
      "0..16. This reduces dimensionality and gives invariance to small\n",
      "distortions.\n",
      "\n",
      "For info on NIST preprocessing routines, see M. D. Garris, J. L. Blue, G.\n",
      "T. Candela, D. L. Dimmick, J. Geist, P. J. Grother, S. A. Janet, and C.\n",
      "L. Wilson, NIST Form-Based Handprint Recognition System, NISTIR 5469,\n",
      "1994.\n",
      "\n",
      ".. topic:: References\n",
      "\n",
      "  - C. Kaynak (1995) Methods of Combining Multiple Classifiers and Their\n",
      "    Applications to Handwritten Digit Recognition, MSc Thesis, Institute of\n",
      "    Graduate Studies in Science and Engineering, Bogazici University.\n",
      "  - E. Alpaydin, C. Kaynak (1998) Cascading Classifiers, Kybernetika.\n",
      "  - Ken Tang and Ponnuthurai N. Suganthan and Xi Yao and A. Kai Qin.\n",
      "    Linear dimensionalityreduction using relevance weighted LDA. School of\n",
      "    Electrical and Electronic Engineering Nanyang Technological University.\n",
      "    2005.\n",
      "  - Claudio Gentile. A New Approximate Maximal Margin Classification\n",
      "    Algorithm. NIPS. 2000.\n"
     ]
    }
   ],
   "source": [
    "digits_dict = datasets.load_digits()\n",
    "print(digits_dict[\"DESCR\"])"
   ]
  },
  {
   "cell_type": "code",
   "execution_count": 3,
   "metadata": {},
   "outputs": [
    {
     "data": {
      "text/plain": [
       "dict_keys(['data', 'target', 'frame', 'feature_names', 'target_names', 'images', 'DESCR'])"
      ]
     },
     "execution_count": 3,
     "metadata": {},
     "output_type": "execute_result"
    }
   ],
   "source": [
    "digits_dict.keys()"
   ]
  },
  {
   "cell_type": "code",
   "execution_count": 4,
   "metadata": {},
   "outputs": [
    {
     "data": {
      "text/plain": [
       "array([0, 1, 2, ..., 8, 9, 8])"
      ]
     },
     "execution_count": 4,
     "metadata": {},
     "output_type": "execute_result"
    }
   ],
   "source": [
    "digits_dict[\"target\"]"
   ]
  },
  {
   "cell_type": "markdown",
   "metadata": {},
   "source": [
    "A continuación se crea dataframe declarado como `digits` con los datos de `digits_dict` tal que tenga 65 columnas, las 6 primeras a la representación de la imagen en escala de grises (0-blanco, 255-negro) y la última correspondiente al dígito (`target`) con el nombre _target_."
   ]
  },
  {
   "cell_type": "code",
   "execution_count": 5,
   "metadata": {},
   "outputs": [
    {
     "data": {
      "text/html": [
       "<div>\n",
       "<style scoped>\n",
       "    .dataframe tbody tr th:only-of-type {\n",
       "        vertical-align: middle;\n",
       "    }\n",
       "\n",
       "    .dataframe tbody tr th {\n",
       "        vertical-align: top;\n",
       "    }\n",
       "\n",
       "    .dataframe thead th {\n",
       "        text-align: right;\n",
       "    }\n",
       "</style>\n",
       "<table border=\"1\" class=\"dataframe\">\n",
       "  <thead>\n",
       "    <tr style=\"text-align: right;\">\n",
       "      <th></th>\n",
       "      <th>c00</th>\n",
       "      <th>c01</th>\n",
       "      <th>c02</th>\n",
       "      <th>c03</th>\n",
       "      <th>c04</th>\n",
       "      <th>c05</th>\n",
       "      <th>c06</th>\n",
       "      <th>c07</th>\n",
       "      <th>c08</th>\n",
       "      <th>c09</th>\n",
       "      <th>...</th>\n",
       "      <th>c55</th>\n",
       "      <th>c56</th>\n",
       "      <th>c57</th>\n",
       "      <th>c58</th>\n",
       "      <th>c59</th>\n",
       "      <th>c60</th>\n",
       "      <th>c61</th>\n",
       "      <th>c62</th>\n",
       "      <th>c63</th>\n",
       "      <th>target</th>\n",
       "    </tr>\n",
       "  </thead>\n",
       "  <tbody>\n",
       "    <tr>\n",
       "      <th>0</th>\n",
       "      <td>0</td>\n",
       "      <td>0</td>\n",
       "      <td>5</td>\n",
       "      <td>13</td>\n",
       "      <td>9</td>\n",
       "      <td>1</td>\n",
       "      <td>0</td>\n",
       "      <td>0</td>\n",
       "      <td>0</td>\n",
       "      <td>0</td>\n",
       "      <td>...</td>\n",
       "      <td>0</td>\n",
       "      <td>0</td>\n",
       "      <td>0</td>\n",
       "      <td>6</td>\n",
       "      <td>13</td>\n",
       "      <td>10</td>\n",
       "      <td>0</td>\n",
       "      <td>0</td>\n",
       "      <td>0</td>\n",
       "      <td>0</td>\n",
       "    </tr>\n",
       "    <tr>\n",
       "      <th>1</th>\n",
       "      <td>0</td>\n",
       "      <td>0</td>\n",
       "      <td>0</td>\n",
       "      <td>12</td>\n",
       "      <td>13</td>\n",
       "      <td>5</td>\n",
       "      <td>0</td>\n",
       "      <td>0</td>\n",
       "      <td>0</td>\n",
       "      <td>0</td>\n",
       "      <td>...</td>\n",
       "      <td>0</td>\n",
       "      <td>0</td>\n",
       "      <td>0</td>\n",
       "      <td>0</td>\n",
       "      <td>11</td>\n",
       "      <td>16</td>\n",
       "      <td>10</td>\n",
       "      <td>0</td>\n",
       "      <td>0</td>\n",
       "      <td>1</td>\n",
       "    </tr>\n",
       "    <tr>\n",
       "      <th>2</th>\n",
       "      <td>0</td>\n",
       "      <td>0</td>\n",
       "      <td>0</td>\n",
       "      <td>4</td>\n",
       "      <td>15</td>\n",
       "      <td>12</td>\n",
       "      <td>0</td>\n",
       "      <td>0</td>\n",
       "      <td>0</td>\n",
       "      <td>0</td>\n",
       "      <td>...</td>\n",
       "      <td>0</td>\n",
       "      <td>0</td>\n",
       "      <td>0</td>\n",
       "      <td>0</td>\n",
       "      <td>3</td>\n",
       "      <td>11</td>\n",
       "      <td>16</td>\n",
       "      <td>9</td>\n",
       "      <td>0</td>\n",
       "      <td>2</td>\n",
       "    </tr>\n",
       "    <tr>\n",
       "      <th>3</th>\n",
       "      <td>0</td>\n",
       "      <td>0</td>\n",
       "      <td>7</td>\n",
       "      <td>15</td>\n",
       "      <td>13</td>\n",
       "      <td>1</td>\n",
       "      <td>0</td>\n",
       "      <td>0</td>\n",
       "      <td>0</td>\n",
       "      <td>8</td>\n",
       "      <td>...</td>\n",
       "      <td>0</td>\n",
       "      <td>0</td>\n",
       "      <td>0</td>\n",
       "      <td>7</td>\n",
       "      <td>13</td>\n",
       "      <td>13</td>\n",
       "      <td>9</td>\n",
       "      <td>0</td>\n",
       "      <td>0</td>\n",
       "      <td>3</td>\n",
       "    </tr>\n",
       "    <tr>\n",
       "      <th>4</th>\n",
       "      <td>0</td>\n",
       "      <td>0</td>\n",
       "      <td>0</td>\n",
       "      <td>1</td>\n",
       "      <td>11</td>\n",
       "      <td>0</td>\n",
       "      <td>0</td>\n",
       "      <td>0</td>\n",
       "      <td>0</td>\n",
       "      <td>0</td>\n",
       "      <td>...</td>\n",
       "      <td>0</td>\n",
       "      <td>0</td>\n",
       "      <td>0</td>\n",
       "      <td>0</td>\n",
       "      <td>2</td>\n",
       "      <td>16</td>\n",
       "      <td>4</td>\n",
       "      <td>0</td>\n",
       "      <td>0</td>\n",
       "      <td>4</td>\n",
       "    </tr>\n",
       "  </tbody>\n",
       "</table>\n",
       "<p>5 rows × 65 columns</p>\n",
       "</div>"
      ],
      "text/plain": [
       "   c00  c01  c02  c03  c04  c05  c06  c07  c08  c09  ...  c55  c56  c57  c58  \\\n",
       "0    0    0    5   13    9    1    0    0    0    0  ...    0    0    0    6   \n",
       "1    0    0    0   12   13    5    0    0    0    0  ...    0    0    0    0   \n",
       "2    0    0    0    4   15   12    0    0    0    0  ...    0    0    0    0   \n",
       "3    0    0    7   15   13    1    0    0    0    8  ...    0    0    0    7   \n",
       "4    0    0    0    1   11    0    0    0    0    0  ...    0    0    0    0   \n",
       "\n",
       "   c59  c60  c61  c62  c63  target  \n",
       "0   13   10    0    0    0       0  \n",
       "1   11   16   10    0    0       1  \n",
       "2    3   11   16    9    0       2  \n",
       "3   13   13    9    0    0       3  \n",
       "4    2   16    4    0    0       4  \n",
       "\n",
       "[5 rows x 65 columns]"
      ]
     },
     "execution_count": 5,
     "metadata": {},
     "output_type": "execute_result"
    }
   ],
   "source": [
    "digits_dict = datasets.load_digits()\n",
    "digits = (\n",
    "    pd.DataFrame(\n",
    "        digits_dict[\"data\"],\n",
    "    )\n",
    "    .rename(columns=lambda x: f\"c{x:02d}\")\n",
    "    .assign(target=digits_dict[\"target\"])\n",
    "    .astype(int)\n",
    ")\n",
    "\n",
    "digits.head()"
   ]
  },
  {
   "cell_type": "markdown",
   "metadata": {},
   "source": [
    "Ahora veremos si existen datos faltantes:"
   ]
  },
  {
   "cell_type": "code",
   "execution_count": 6,
   "metadata": {},
   "outputs": [
    {
     "data": {
      "text/plain": [
       "<matplotlib.axes._subplots.AxesSubplot at 0x1e5eb913520>"
      ]
     },
     "execution_count": 6,
     "metadata": {},
     "output_type": "execute_result"
    },
    {
     "data": {
      "image/png": "[encoded data removed]",
      "text/plain": [
       "<Figure size 1800x720 with 2 Axes>"
      ]
     },
     "metadata": {
      "needs_background": "light"
     },
     "output_type": "display_data"
    }
   ],
   "source": [
    "msno.matrix(digits.dropna())"
   ]
  },
  {
   "cell_type": "markdown",
   "metadata": {},
   "source": [
    "No existen datos faltantes. Ahora, veamos una visualización por target."
   ]
  },
  {
   "cell_type": "code",
   "execution_count": 7,
   "metadata": {
    "scrolled": false
   },
   "outputs": [
    {
     "data": {
      "text/plain": [
       "<matplotlib.axes._subplots.AxesSubplot at 0x1e5ebbcfd60>"
      ]
     },
     "execution_count": 7,
     "metadata": {},
     "output_type": "execute_result"
    },
    {
     "data": {
      "image/png": "[encoded data removed]",
      "text/plain": [
       "<Figure size 432x288 with 1 Axes>"
      ]
     },
     "metadata": {
      "needs_background": "light"
     },
     "output_type": "display_data"
    }
   ],
   "source": [
    "import seaborn as sns\n",
    "sns.countplot(x='target',data=digits)"
   ]
  },
  {
   "cell_type": "markdown",
   "metadata": {},
   "source": [
    "### Ejercicio 2\n",
    "**Visualización:** Para visualizar los datos utilizaremos el método `imshow` de `matplotlib`. Resulta necesario convertir el arreglo desde las dimensiones (1,64)  a (8,8) para que la imagen sea cuadrada y pueda distinguirse el dígito. Superpondremos además el label correspondiente al dígito, mediante el método `text`. Esto nos permitirá comparar la imagen generada con la etiqueta asociada a los valores. Realizaremos lo anterior para los primeros 25 datos del archivo."
   ]
  },
  {
   "cell_type": "code",
   "execution_count": 8,
   "metadata": {},
   "outputs": [
    {
     "data": {
      "text/plain": [
       "array([[ 0.,  0.,  5., 13.,  9.,  1.,  0.,  0.],\n",
       "       [ 0.,  0., 13., 15., 10., 15.,  5.,  0.],\n",
       "       [ 0.,  3., 15.,  2.,  0., 11.,  8.,  0.],\n",
       "       [ 0.,  4., 12.,  0.,  0.,  8.,  8.,  0.],\n",
       "       [ 0.,  5.,  8.,  0.,  0.,  9.,  8.,  0.],\n",
       "       [ 0.,  4., 11.,  0.,  1., 12.,  7.,  0.],\n",
       "       [ 0.,  2., 14.,  5., 10., 12.,  0.,  0.],\n",
       "       [ 0.,  0.,  6., 13., 10.,  0.,  0.,  0.]])"
      ]
     },
     "execution_count": 8,
     "metadata": {},
     "output_type": "execute_result"
    }
   ],
   "source": [
    "digits_dict['images'][0]"
   ]
  },
  {
   "cell_type": "markdown",
   "metadata": {},
   "source": [
    "Visualiza imágenes de los dígitos utilizando la llave `images` de `digits_dict`. \n",
    "\n",
    "Sugerencia: Utiliza `plt.subplots` y el método `imshow`. Puedes hacer una grilla de varias imágenes al mismo tiempo!"
   ]
  },
  {
   "cell_type": "code",
   "execution_count": 9,
   "metadata": {},
   "outputs": [],
   "source": [
    "# Hagamos un pequeño trabajo de índices y nombres.\n",
    "#indx\n",
    "\n",
    "nx, ny = 5, 5\n",
    "indx = [ ]\n",
    "for i in range(nx):\n",
    "    for j in range(ny):\n",
    "        indx.append( (i,j) )\n",
    "        \n",
    "#name        \n",
    "name = [ ]\n",
    "for k in range(nx*ny):\n",
    "    if k < 10:\n",
    "        name.append( \"c0\"+str(k) )\n",
    "    else:\n",
    "        name.append( \"c\"+str(k)  )\n",
    "\n"
   ]
  },
  {
   "cell_type": "code",
   "execution_count": 10,
   "metadata": {},
   "outputs": [
    {
     "data": {
      "image/png": "[encoded data removed]",
      "text/plain": [
       "<Figure size 1440x1440 with 25 Axes>"
      ]
     },
     "metadata": {
      "needs_background": "light"
     },
     "output_type": "display_data"
    }
   ],
   "source": [
    "fig, axs = plt.subplots(nx, ny, figsize=(20, 20))\n",
    "for k in range(nx*ny):\n",
    "    i,j = indx[k]\n",
    "    axs[i,j].imshow(digits_dict[\"images\"][k],cmap='Greys')\n",
    "    axs[i][j].set_title(name[k])\n",
    "plt.show()"
   ]
  },
  {
   "cell_type": "markdown",
   "metadata": {},
   "source": [
    "### Ejercicio 3\n",
    "\n",
    "**Machine Learning**: En esta parte usted debe entrenar los distintos modelos escogidos desde la librería de `skelearn`. Para cada modelo, debe realizar los siguientes pasos:\n",
    "\n",
    "* **train-test** \n",
    " * Crear conjunto de entrenamiento y testeo (usted determine las proporciones adecuadas).\n",
    " * Imprimir por pantalla el largo del conjunto de entrenamiento y de testeo.\n",
    " \n",
    " \n",
    "* **modelo**:\n",
    " * Instanciar el modelo objetivo desde la librería sklearn.\n",
    " * *Hiper-parámetros*: Utiliza `sklearn.model_selection.GridSearchCV` para obtener la mejor estimación de los parámetros del modelo objetivo.\n",
    "\n",
    "\n",
    "\n",
    "\n",
    "* **Métricas**:\n",
    " * Graficar matriz de confusión.\n",
    " * Analizar métricas de error.\n",
    "\n",
    "\n",
    "\n",
    "__Preguntas a responder:__\n",
    "\n",
    "* ¿Cuál modelo es mejor basado en sus métricas?\n",
    "* ¿Cuál modelo demora menos tiempo en ajustarse?\n",
    "* ¿Qué modelo escoges?\n"
   ]
  },
  {
   "cell_type": "markdown",
   "metadata": {},
   "source": [
    "### Train test"
   ]
  },
  {
   "cell_type": "code",
   "execution_count": 11,
   "metadata": {},
   "outputs": [
    {
     "name": "stdout",
     "output_type": "stream",
     "text": [
      "Separando informacion:\n",
      "\n",
      "numero de filas data original :  1797\n",
      "numero de filas train set     :  1437\n",
      "numero de filas test set      :  360\n"
     ]
    }
   ],
   "source": [
    "# datos \n",
    "X = digits.drop(columns=\"target\").values\n",
    "y = digits[\"target\"].values\n",
    "\n",
    "from sklearn.model_selection import train_test_split\n",
    "\n",
    "# split dataset\n",
    "X_train, X_test, y_train, y_test = train_test_split(X, y, test_size=0.2, random_state = 2)\n",
    "# print rows train and test sets\n",
    "print('Separando informacion:\\n')\n",
    "print('numero de filas data original : ',len(X))\n",
    "print('numero de filas train set     : ',len(X_train))\n",
    "print('numero de filas test set      : ',len(X_test))"
   ]
  },
  {
   "cell_type": "markdown",
   "metadata": {},
   "source": [
    "### Modelo"
   ]
  },
  {
   "cell_type": "code",
   "execution_count": 12,
   "metadata": {},
   "outputs": [],
   "source": [
    "from sklearn.model_selection import GridSearchCV\n",
    "from sklearn.linear_model import LogisticRegression\n",
    "from sklearn.neighbors import KNeighborsClassifier\n",
    "from sklearn import svm\n",
    "from sklearn.ensemble import RandomForestClassifier"
   ]
  },
  {
   "cell_type": "code",
   "execution_count": 13,
   "metadata": {},
   "outputs": [
    {
     "data": {
      "text/plain": [
       "GridSearchCV(estimator=LogisticRegression(max_iter=3000),\n",
       "             param_grid={'C': [1.0, 5.0, 10.0],\n",
       "                         'max_iter': range(1500, 2500, 100),\n",
       "                         'solver': ['newton-cg'], 'tol': [0.0001, 1e-05]})"
      ]
     },
     "execution_count": 13,
     "metadata": {},
     "output_type": "execute_result"
    }
   ],
   "source": [
    "# Logistic Regression\n",
    "\n",
    "LogReg_params = {'tol':[1e-4,1e-5], 'C': [1.0,5.0,10.0],'solver': ['newton-cg'], 'max_iter':range(1500,2500,100)}\n",
    "\n",
    "rlog = GridSearchCV(LogisticRegression(max_iter=3000),LogReg_params)\n",
    "rlog.fit(X_train, y_train)"
   ]
  },
  {
   "cell_type": "code",
   "execution_count": 14,
   "metadata": {},
   "outputs": [
    {
     "data": {
      "text/plain": [
       "GridSearchCV(estimator=KNeighborsClassifier(),\n",
       "             param_grid={'algorithm': ('auto', 'ball_tree', 'kd_tree', 'brute'),\n",
       "                         'leaf_size': (20, 30, 40),\n",
       "                         'n_neighbors': (4, 10, 15, 20),\n",
       "                         'weights': ('uniform', 'distance')})"
      ]
     },
     "execution_count": 14,
     "metadata": {},
     "output_type": "execute_result"
    }
   ],
   "source": [
    "# K-Nearest Neighbours\n",
    "\n",
    "Neigh_params = {'algorithm': ('auto', 'ball_tree', 'kd_tree', 'brute'), 'leaf_size': (20,30,40),\n",
    "                'n_neighbors':(4,10,15,20), 'weights': ('uniform', 'distance')}\n",
    "\n",
    "neigh = GridSearchCV(KNeighborsClassifier(),Neigh_params)\n",
    "neigh.fit(X_train, y_train)"
   ]
  },
  {
   "cell_type": "code",
   "execution_count": 15,
   "metadata": {
    "scrolled": false
   },
   "outputs": [
    {
     "data": {
      "text/plain": [
       "GridSearchCV(estimator=SVC(),\n",
       "             param_grid={'C': range(1, 10), 'degree': range(1, 5),\n",
       "                         'kernel': ('poly', 'rbf', 'sigmoid')})"
      ]
     },
     "execution_count": 15,
     "metadata": {},
     "output_type": "execute_result"
    }
   ],
   "source": [
    "# A elección: svm.SVC\n",
    "\n",
    "SVC_params = {'C':range(1,10),'degree':range(1,5),'kernel':('poly', 'rbf', 'sigmoid')}\n",
    "\n",
    "svm_svc = GridSearchCV(svm.SVC(),SVC_params)\n",
    "svm_svc.fit(X_train, y_train)"
   ]
  },
  {
   "cell_type": "code",
   "execution_count": 16,
   "metadata": {},
   "outputs": [
    {
     "data": {
      "text/plain": [
       "GridSearchCV(estimator=RandomForestClassifier(),\n",
       "             param_grid={'criterion': ['gini', 'entropy'],\n",
       "                         'min_samples_leaf': range(1, 5),\n",
       "                         'min_samples_split': range(2, 5),\n",
       "                         'n_estimators': range(1, 100, 10)})"
      ]
     },
     "execution_count": 16,
     "metadata": {},
     "output_type": "execute_result"
    }
   ],
   "source": [
    "# A elección: svm.SVC\n",
    "\n",
    "Rand_Forest_params = {'n_estimators':range(1,100,10),'criterion':['gini','entropy'],'min_samples_split':range(2,5),\n",
    "                      'min_samples_leaf':range(1,5)}\n",
    "\n",
    "randForest = GridSearchCV(RandomForestClassifier(),Rand_Forest_params)\n",
    "randForest.fit(X_train, y_train)"
   ]
  },
  {
   "cell_type": "code",
   "execution_count": 17,
   "metadata": {},
   "outputs": [
    {
     "name": "stdout",
     "output_type": "stream",
     "text": [
      "Hiper-Parámetros: \n",
      "Logistic Regression:  {'C': 1.0, 'max_iter': 1500, 'solver': 'newton-cg', 'tol': 0.0001}\n",
      "KNeighborsClassifier: {'algorithm': 'auto', 'leaf_size': 20, 'n_neighbors': 4, 'weights': 'uniform'}\n",
      "svm.SVC:           {'C': 1, 'degree': 1, 'kernel': 'poly'}\n",
      "RandomForestClassifier:    {'criterion': 'gini', 'min_samples_leaf': 1, 'min_samples_split': 2, 'n_estimators': 1}\n"
     ]
    }
   ],
   "source": [
    "#Hiper-Parámetros\n",
    "print(\"Hiper-Parámetros: \")\n",
    "print( \"Logistic Regression:  \"+ str(rlog.cv_results_['params'][0]))\n",
    "print(\"KNeighborsClassifier: \" + str(neigh.cv_results_['params'][0]))\n",
    "print( \"svm.SVC:           \"+ str(svm_svc.cv_results_['params'][0]))\n",
    "print( \"RandomForestClassifier:    \"+ str(randForest.cv_results_['params'][0]))"
   ]
  },
  {
   "cell_type": "markdown",
   "metadata": {},
   "source": [
    "En consecuencia, los mejores modelos son:"
   ]
  },
  {
   "cell_type": "code",
   "execution_count": 18,
   "metadata": {
    "scrolled": false
   },
   "outputs": [
    {
     "name": "stdout",
     "output_type": "stream",
     "text": [
      "Los tiempos de entrenamiento son:\n",
      "El tiempo de entrenamiento del modelo: LogisticRegression es 9.809859991073608\n",
      "El tiempo de entrenamiento del modelo: KNeighborsClassifier es 0.02494215965270996\n",
      "El tiempo de entrenamiento del modelo: svm.SVC es 0.0557858943939209\n",
      "El tiempo de entrenamiento del modelo: RandomForestClassifier es 0.005047321319580078\n"
     ]
    }
   ],
   "source": [
    "train_times = {}\n",
    "\n",
    "# Regresión Logística.\n",
    "rlog = LogisticRegression(C= 1.0, solver ='newton-cg', tol = 0.0001,max_iter=1500)\n",
    "t1=time.time()\n",
    "rlog.fit(X_train, y_train) # ajustando el modelo\n",
    "train_times[\"LogisticRegression\"]= time.time() - t1\n",
    "\n",
    "# K-Nearest Neighbours\n",
    "neigh = KNeighborsClassifier(algorithm = 'auto', leaf_size = 20, n_neighbors = 4, weights = 'uniform')\n",
    "t1=time.time()\n",
    "neigh.fit(X_train, y_train)\n",
    "train_times[\"KNeighborsClassifier\"] = time.time() - t1\n",
    "\n",
    "# A elección: svm.SVC\n",
    "svm_svc = svm.SVC( degree= 1,kernel = 'poly')\n",
    "t1=time.time()\n",
    "svm_svc.fit(X_train, y_train)\n",
    "train_times[\"svm.SVC\"]= time.time() - t1\n",
    "\n",
    "# A elección: RandomForestClassifier\n",
    "randForest = RandomForestClassifier(criterion= 'gini', min_samples_leaf= 1, min_samples_split= 2, n_estimators= 1)\n",
    "t1=time.time()\n",
    "randForest.fit(X_train, y_train)\n",
    "train_times[\"RandomForestClassifier\"]= time.time() - t1\n",
    "\n",
    "print('Los tiempos de entrenamiento son:')\n",
    "for model,tiempo in train_times.items():\n",
    "    print(\"El tiempo de entrenamiento del modelo: {m} es {t}\".format(m = model,t = tiempo))"
   ]
  },
  {
   "cell_type": "markdown",
   "metadata": {},
   "source": [
    "### Métricas"
   ]
  },
  {
   "cell_type": "code",
   "execution_count": 19,
   "metadata": {},
   "outputs": [],
   "source": [
    "from sklearn.metrics import confusion_matrix,accuracy_score,recall_score,precision_score,f1_score"
   ]
  },
  {
   "cell_type": "code",
   "execution_count": 20,
   "metadata": {
    "scrolled": false
   },
   "outputs": [
    {
     "name": "stdout",
     "output_type": "stream",
     "text": [
      "##################### LogisticRegression(max_iter=1500, solver='newton-cg') #####################\n",
      "\n",
      "Matriz de confusion:\n",
      " \n",
      "[[31  0  0  0  1  0  0  0  0  0]\n",
      " [ 0 41  0  1  0  0  0  0  1  1]\n",
      " [ 0  0 31  0  0  0  0  0  0  0]\n",
      " [ 0  0  0 33  0  0  0  2  1  0]\n",
      " [ 0  0  0  0 31  0  0  0  3  1]\n",
      " [ 0  1  0  0  1 40  0  0  0  1]\n",
      " [ 0  1  0  0  0  0 33  0  1  0]\n",
      " [ 0  0  0  0  0  0  0 39  0  1]\n",
      " [ 0  0  0  0  1  0  0  0 34  1]\n",
      " [ 0  0  0  0  0  1  0  0  1 26]]\n",
      "\n",
      "Metricas:\n",
      " \n",
      "accuracy:    0.9416666666666667\n",
      "recall:      0.9416666666666667\n",
      "precision:   0.944844330702475\n",
      "f-score:     0.9424086721254218\n",
      "\n",
      "##################### KNeighborsClassifier(leaf_size=20, n_neighbors=4) #####################\n",
      "\n",
      "Matriz de confusion:\n",
      " \n",
      "[[32  0  0  0  0  0  0  0  0  0]\n",
      " [ 0 44  0  0  0  0  0  0  0  0]\n",
      " [ 0  0 31  0  0  0  0  0  0  0]\n",
      " [ 0  0  0 35  0  0  0  1  0  0]\n",
      " [ 0  0  0  0 33  0  0  1  1  0]\n",
      " [ 0  0  0  0  0 43  0  0  0  0]\n",
      " [ 0  0  0  0  0  0 35  0  0  0]\n",
      " [ 0  0  0  0  0  0  0 40  0  0]\n",
      " [ 0  1  0  0  0  0  0  0 35  0]\n",
      " [ 0  0  0  0  0  1  0  1  0 26]]\n",
      "\n",
      "Metricas:\n",
      " \n",
      "accuracy:    0.9833333333333333\n",
      "recall:      0.9833333333333333\n",
      "precision:   0.9840395883903637\n",
      "f-score:     0.9833113636560299\n",
      "\n",
      "##################### SVC(degree=1, kernel='poly') #####################\n",
      "\n",
      "Matriz de confusion:\n",
      " \n",
      "[[31  0  0  0  1  0  0  0  0  0]\n",
      " [ 0 44  0  0  0  0  0  0  0  0]\n",
      " [ 0  0 31  0  0  0  0  0  0  0]\n",
      " [ 0  0  0 34  0  0  0  0  2  0]\n",
      " [ 0  0  0  0 31  0  0  0  3  1]\n",
      " [ 0  0  0  0  0 43  0  0  0  0]\n",
      " [ 0  1  0  0  0  0 34  0  0  0]\n",
      " [ 0  0  0  0  0  0  0 39  1  0]\n",
      " [ 0  1  0  0  0  0  0  0 34  1]\n",
      " [ 0  0  0  0  0  1  0  0  2 25]]\n",
      "\n",
      "Metricas:\n",
      " \n",
      "accuracy:    0.9611111111111111\n",
      "recall:      0.9611111111111111\n",
      "precision:   0.9641242135090263\n",
      "f-score:     0.9616808512835242\n",
      "\n",
      "##################### RandomForestClassifier(n_estimators=1) #####################\n",
      "\n",
      "Matriz de confusion:\n",
      " \n",
      "[[27  0  1  1  0  0  0  0  1  2]\n",
      " [ 0 35  4  0  0  2  1  0  1  1]\n",
      " [ 0  0 22  4  0  0  0  0  4  1]\n",
      " [ 0  1  2 27  0  3  0  0  2  1]\n",
      " [ 0  2  0  0 25  4  0  1  1  2]\n",
      " [ 0  0  0  1  0 35  0  2  3  2]\n",
      " [ 0  0  2  0  0  0 31  0  2  0]\n",
      " [ 0  0  0  0  1  3  0 32  3  1]\n",
      " [ 0  2  0  0  0  2  5  2 22  3]\n",
      " [ 0  3  1  2  1  2  0  0  1 18]]\n",
      "\n",
      "Metricas:\n",
      " \n",
      "accuracy:    0.7611111111111111\n",
      "recall:      0.7611111111111111\n",
      "precision:   0.7744224356217351\n",
      "f-score:     0.764669683315553\n",
      "\n"
     ]
    }
   ],
   "source": [
    "for model in [rlog, neigh, svm_svc,randForest]:\n",
    "    print('##################### {m} #####################'.format(m = str(model)))\n",
    "    y_true =  list(y_test)\n",
    "    y_pred = list(model.predict(X_test))\n",
    "\n",
    "\n",
    "    print('\\nMatriz de confusion:\\n ')\n",
    "    print(confusion_matrix(y_true,y_pred))\n",
    "\n",
    "    print('\\nMetricas:\\n ')\n",
    "    print('accuracy:   ',accuracy_score(y_true,y_pred))\n",
    "    print('recall:     ',recall_score(y_true,y_pred,average='weighted'))\n",
    "    print('precision:  ',precision_score(y_true,y_pred,average='weighted'))\n",
    "    print('f-score:    ',f1_score(y_true,y_pred,average='weighted'))\n",
    "    print(\"\")"
   ]
  },
  {
   "cell_type": "markdown",
   "metadata": {},
   "source": [
    "Luego de realizar y comprar cuatro modelos, podemos afirmar que quien tiene mayor precisión es *KNeighborsClassifier(leaf_size=20, n_neighbors=4)* considerando que es el segundo más rápido en después de *RandomForestClassifier*, es por esto, que nos mantendremos trabajando con *KNeighborsClassifier*"
   ]
  },
  {
   "cell_type": "markdown",
   "metadata": {},
   "source": [
    "### Ejercicio 4\n",
    "\n",
    "__Comprensión del modelo:__ Tomando en cuenta el mejor modelo entontrado en el `Ejercicio 3`, debe comprender e interpretar minuciosamente los resultados y gráficos asocados al modelo en estudio, para ello debe resolver los siguientes puntos:\n",
    "\n",
    "\n",
    "\n",
    " * **Cross validation**: usando **cv** (con n_fold = 10), sacar una especie de \"intervalo de confianza\" sobre alguna de las métricas estudiadas en clases: \n",
    "  * $\\mu \\pm \\sigma$ = promedio $\\pm$ desviación estandar\n",
    " * **Curva de Validación**: Replica el ejemplo del siguiente [link](https://scikit-learn.org/stable/auto_examples/model_selection/plot_validation_curve.html#sphx-glr-auto-examples-model-selection-plot-validation-curve-py) pero con el modelo, parámetros y métrica adecuada. Saque conclusiones del gráfico.\n",
    " * **Curva AUC–ROC**: Replica el ejemplo del siguiente  [link](https://scikit-learn.org/stable/auto_examples/model_selection/plot_roc.html#sphx-glr-auto-examples-model-selection-plot-roc-py) pero con el modelo, parámetros y métrica adecuada. Saque conclusiones del gráfico."
   ]
  },
  {
   "cell_type": "markdown",
   "metadata": {},
   "source": [
    "**Cross Validation:**"
   ]
  },
  {
   "cell_type": "code",
   "execution_count": 21,
   "metadata": {},
   "outputs": [
    {
     "name": "stdout",
     "output_type": "stream",
     "text": [
      "Precisión: 0.97 (+/- 0.03)\n"
     ]
    }
   ],
   "source": [
    "from sklearn.model_selection import cross_val_score\n",
    "\n",
    "scores = cross_val_score(neigh, X, y, cv=10)\n",
    "print(\"Precisión: %0.2f (+/- %0.2f)\" % (scores.mean(), scores.std() * 2))"
   ]
  },
  {
   "cell_type": "markdown",
   "metadata": {},
   "source": [
    "**Curva de Validación**"
   ]
  },
  {
   "cell_type": "code",
   "execution_count": 22,
   "metadata": {},
   "outputs": [
    {
     "data": {
      "image/png": "[encoded data removed]",
      "text/plain": [
       "<Figure size 432x288 with 1 Axes>"
      ]
     },
     "metadata": {
      "needs_background": "light"
     },
     "output_type": "display_data"
    }
   ],
   "source": [
    "from sklearn.model_selection import validation_curve\n",
    "\n",
    "# Create range of values for parameter\n",
    "param_range = np.arange(1, 250, 2)\n",
    "\n",
    "# Calculate accuracy on training and test set using range of parameter values\n",
    "train_scores, test_scores = validation_curve(neigh, X, y, param_name=\"n_neighbors\", param_range=param_range,\n",
    "                                             cv=10, scoring=\"accuracy\", n_jobs=-1)\n",
    "\n",
    "\n",
    "# Calculate mean and standard deviation for training set scores\n",
    "train_mean = np.mean(train_scores, axis=1)\n",
    "train_std = np.std(train_scores, axis=1)\n",
    "\n",
    "# Calculate mean and standard deviation for test set scores\n",
    "test_mean = np.mean(test_scores, axis=1)\n",
    "test_std = np.std(test_scores, axis=1)\n",
    "\n",
    "# Plot mean accuracy scores for training and test sets\n",
    "plt.plot(param_range, train_mean, label=\"Training score\", color=\"black\")\n",
    "plt.plot(param_range, test_mean, label=\"Cross-validation score\", color=\"dimgrey\")\n",
    "\n",
    "# Plot accurancy bands for training and test sets\n",
    "plt.fill_between(param_range, train_mean - train_std, train_mean + train_std, color=\"gray\")\n",
    "plt.fill_between(param_range, test_mean - test_std, test_mean + test_std, color=\"gainsboro\")\n",
    "\n",
    "# Create plot\n",
    "plt.title(\"Validation Curve With KNeighborsClassifier\")\n",
    "plt.xlabel(\"Number Of Neighbors\")\n",
    "plt.ylabel(\"Accuracy Score\")\n",
    "plt.tight_layout()\n",
    "plt.legend(loc=\"best\")\n",
    "plt.show()"
   ]
  },
  {
   "cell_type": "markdown",
   "metadata": {},
   "source": [
    "**Curva AUC–ROC**"
   ]
  },
  {
   "cell_type": "code",
   "execution_count": 23,
   "metadata": {},
   "outputs": [],
   "source": [
    "from sklearn.preprocessing import label_binarize\n",
    "from sklearn.metrics import roc_auc_score\n",
    "from sklearn.metrics import roc_curve, auc\n",
    "\n",
    "y_test=label_binarize(y_test, classes=[i for i in range(10)])\n",
    "\n",
    "# K-Nearest Neighbours\n",
    "neigh = KNeighborsClassifier(algorithm = 'auto', leaf_size = 20, n_neighbors = 4, weights = 'uniform')\n",
    "\n",
    "y_score = neigh.fit(X_train, y_train).predict_proba(X_test)\n",
    "\n",
    "fpr = dict()\n",
    "tpr = dict()\n",
    "roc_auc = dict()\n",
    "for i in range(10):\n",
    "    fpr[i], tpr[i], _ = roc_curve(y_test[:, i], y_score[:, i])\n",
    "    roc_auc[i] = auc(fpr[i], tpr[i])\n",
    "\n",
    "fpr[\"micro\"], tpr[\"micro\"], _ = roc_curve(y_test.ravel(), y_score.ravel())\n",
    "roc_auc[\"micro\"] = auc(fpr[\"micro\"], tpr[\"micro\"])"
   ]
  },
  {
   "cell_type": "code",
   "execution_count": 24,
   "metadata": {},
   "outputs": [],
   "source": [
    "nx, ny = 2, 5\n",
    "indx = [ ]\n",
    "for i in range(nx):\n",
    "    for j in range(ny):\n",
    "        indx.append( (i,j) )\n",
    "        \n",
    "#name        \n",
    "name = [ ]\n",
    "for k in range(nx*ny):\n",
    "    if k < 10:\n",
    "        name.append( \"c0\"+str(k) )\n",
    "    else:\n",
    "        name.append( \"c\"+str(k)  )"
   ]
  },
  {
   "cell_type": "code",
   "execution_count": 25,
   "metadata": {
    "scrolled": false
   },
   "outputs": [
    {
     "data": {
      "image/png": "[encoded data removed]",
      "text/plain": [
       "<Figure size 720x720 with 1 Axes>"
      ]
     },
     "metadata": {
      "needs_background": "light"
     },
     "output_type": "display_data"
    }
   ],
   "source": [
    "plt.figure(figsize=(10,10))\n",
    "lw = 2\n",
    "for i in range(10):\n",
    "    \n",
    "    plt.plot(fpr[i], tpr[i],\n",
    "             lw=lw, label='ROC curve del dijito {0} (area ={1:f})'\n",
    "             ''.format(i,roc_auc[i])   )\n",
    "    plt.plot([0, 1], [0, 1], color='navy', lw=lw, linestyle='--')\n",
    "    plt.xlim([-0.01, 1.0])\n",
    "    plt.ylim([0.0, 1.005])\n",
    "    plt.xlabel('False Positive Rate')\n",
    "    plt.ylabel('True Positive Rate')\n",
    "    plt.title('Receiver operating characteristic example')\n",
    "    plt.legend(loc=\"lower right\")\n",
    "plt.show()\n"
   ]
  },
  {
   "cell_type": "markdown",
   "metadata": {},
   "source": [
    "### Ejercicio 5\n",
    "__Reducción de la dimensión:__ Tomando en cuenta el mejor modelo encontrado en el `Ejercicio 3`, debe realizar una redcción de dimensionalidad del conjunto de datos. Para ello debe abordar el problema ocupando los dos criterios visto en clases:  \n",
    "\n",
    "* **Selección de atributos**\n",
    "* **Extracción de atributos**\n",
    "\n",
    "__Preguntas a responder:__\n",
    "\n",
    "Una vez realizado la reducción de dimensionalidad, debe sacar algunas estadísticas y gráficas comparativas entre el conjunto de datos original y el nuevo conjunto de datos (tamaño del dataset, tiempo de ejecución del modelo, etc.)\n"
   ]
  },
  {
   "cell_type": "markdown",
   "metadata": {},
   "source": [
    "Comparemos los métodos de **selección de atributos** a través de *SelectKBest* y **Extracción de atributos** a través de *análisis de componentes principales (PCA)*"
   ]
  },
  {
   "cell_type": "markdown",
   "metadata": {},
   "source": [
    "### Selección de atributos: SelectKBest"
   ]
  },
  {
   "cell_type": "code",
   "execution_count": 26,
   "metadata": {},
   "outputs": [],
   "source": [
    "from sklearn.feature_selection import SelectKBest\n",
    "from sklearn.feature_selection import f_classif"
   ]
  },
  {
   "cell_type": "code",
   "execution_count": 27,
   "metadata": {
    "scrolled": true
   },
   "outputs": [],
   "source": [
    "# Aplicando el algoritmo univariante de prueba F.\n",
    "k = 20  # número de atributos a seleccionar\n",
    "# Seleccionamos 25 atributos dado que en PCA, trabajaremos con las 25 componentes principales.\n",
    "# Separamos las columnas objetivo\n",
    "\n",
    "columnas      = list(digits.drop(['target'], axis= 1).columns.values)\n",
    "seleccionadas = SelectKBest(f_classif, k=k).fit(X_train, y_train)"
   ]
  },
  {
   "cell_type": "code",
   "execution_count": 28,
   "metadata": {},
   "outputs": [],
   "source": [
    "catrib = seleccionadas.get_support()\n",
    "atributos = [columnas[i] for i in list(catrib.nonzero()[0])]"
   ]
  },
  {
   "cell_type": "markdown",
   "metadata": {},
   "source": [
    "Para lo cual, trabajeremos con la selección:\n",
    "\n",
    "['c02',\n",
    " 'c10',\n",
    " 'c13',\n",
    " 'c18',\n",
    " 'c19',\n",
    " 'c20',\n",
    " 'c21',\n",
    " 'c26',\n",
    " 'c27',\n",
    " 'c28',\n",
    " 'c30',\n",
    " 'c33',\n",
    " 'c34',\n",
    " 'c35',\n",
    " 'c36',\n",
    " 'c38',\n",
    " 'c42',\n",
    " 'c43',\n",
    " 'c44',\n",
    " 'c46',\n",
    " 'c53',\n",
    " 'c54',\n",
    " 'c58',\n",
    " 'c60',\n",
    " 'c61']\n",
    " \n",
    " Que nos entrega *SelectKBest*."
   ]
  },
  {
   "cell_type": "markdown",
   "metadata": {},
   "source": [
    "### Extracción de atributos: PCA"
   ]
  },
  {
   "cell_type": "code",
   "execution_count": 29,
   "metadata": {},
   "outputs": [],
   "source": [
    "from sklearn.preprocessing import StandardScaler\n",
    "from sklearn.decomposition import PCA"
   ]
  },
  {
   "cell_type": "code",
   "execution_count": 30,
   "metadata": {},
   "outputs": [],
   "source": [
    "# Reescalamiento de los datos.\n",
    "X_new = StandardScaler().fit_transform(X_train)"
   ]
  },
  {
   "cell_type": "code",
   "execution_count": 31,
   "metadata": {},
   "outputs": [],
   "source": [
    "# Ajuste modelo\n",
    "pca = PCA(n_components = 64)\n",
    "principalComponents = pca.fit_transform(X_new)"
   ]
  },
  {
   "cell_type": "code",
   "execution_count": 32,
   "metadata": {
    "scrolled": false
   },
   "outputs": [
    {
     "data": {
      "image/png": "[encoded data removed]",
      "text/plain": [
       "<Figure size 1080x288 with 1 Axes>"
      ]
     },
     "metadata": {
      "needs_background": "light"
     },
     "output_type": "display_data"
    }
   ],
   "source": [
    "# Graficar varianza por componente\n",
    "percent_variance = pca.explained_variance_ratio_* 100\n",
    "columns = [ \"PC{j}\".format(j = i) for i in range(64)]\n",
    "\n",
    "plt.figure(figsize=(15,4))\n",
    "plt.bar(x= range(1,65), height=percent_variance, tick_label=columns)\n",
    "plt.xticks(rotation=75)\n",
    "plt.ylabel('Percentate of Variance Explained')\n",
    "plt.xlabel('Principal Component')\n",
    "plt.title('PCA Scree Plot')\n",
    "plt.show()"
   ]
  },
  {
   "cell_type": "code",
   "execution_count": 33,
   "metadata": {
    "scrolled": false
   },
   "outputs": [
    {
     "data": {
      "image/png": "[encoded data removed]",
      "text/plain": [
       "<Figure size 1080x288 with 1 Axes>"
      ]
     },
     "metadata": {
      "needs_background": "light"
     },
     "output_type": "display_data"
    }
   ],
   "source": [
    "# graficar varianza por la suma acumulada de los componente\n",
    "percent_variance_cum = np.cumsum(percent_variance)\n",
    "columns = [ \"S{j}\".format(j = i) for i in range(64)]\n",
    "\n",
    "plt.figure(figsize=(15,4))\n",
    "plt.bar(x= range(1,65), height=percent_variance_cum , tick_label=columns)\n",
    "plt.xticks(rotation=75)\n",
    "plt.ylabel('Percentate of Variance Explained')\n",
    "plt.xlabel('Principal Component Cumsum')\n",
    "plt.title('PCA Scree Plot')\n",
    "plt.show()"
   ]
  },
  {
   "cell_type": "code",
   "execution_count": 34,
   "metadata": {},
   "outputs": [
    {
     "data": {
      "text/plain": [
       "95.2840694237342"
      ]
     },
     "execution_count": 34,
     "metadata": {},
     "output_type": "execute_result"
    }
   ],
   "source": [
    "percent_variance_cum[39]\n",
    "#percent_variance_cum"
   ]
  },
  {
   "cell_type": "markdown",
   "metadata": {},
   "source": [
    "Es decir, que la varianza explicada de las variables se puede explicar en 95.08% considerando solo las 39 primeras componentes principales. Realicemos el ajuste para las 39 componentes principales y realicemos la nueva gráfica proyectada a estas componentes"
   ]
  },
  {
   "cell_type": "code",
   "execution_count": 35,
   "metadata": {
    "scrolled": false
   },
   "outputs": [
    {
     "data": {
      "text/html": [
       "<div>\n",
       "<style scoped>\n",
       "    .dataframe tbody tr th:only-of-type {\n",
       "        vertical-align: middle;\n",
       "    }\n",
       "\n",
       "    .dataframe tbody tr th {\n",
       "        vertical-align: top;\n",
       "    }\n",
       "\n",
       "    .dataframe thead th {\n",
       "        text-align: right;\n",
       "    }\n",
       "</style>\n",
       "<table border=\"1\" class=\"dataframe\">\n",
       "  <thead>\n",
       "    <tr style=\"text-align: right;\">\n",
       "      <th></th>\n",
       "      <th>PC0</th>\n",
       "      <th>PC1</th>\n",
       "      <th>PC2</th>\n",
       "      <th>PC3</th>\n",
       "      <th>PC4</th>\n",
       "      <th>PC5</th>\n",
       "      <th>PC6</th>\n",
       "      <th>PC7</th>\n",
       "      <th>PC8</th>\n",
       "      <th>PC9</th>\n",
       "      <th>...</th>\n",
       "      <th>PC30</th>\n",
       "      <th>PC31</th>\n",
       "      <th>PC32</th>\n",
       "      <th>PC33</th>\n",
       "      <th>PC34</th>\n",
       "      <th>PC35</th>\n",
       "      <th>PC36</th>\n",
       "      <th>PC37</th>\n",
       "      <th>PC38</th>\n",
       "      <th>target</th>\n",
       "    </tr>\n",
       "  </thead>\n",
       "  <tbody>\n",
       "    <tr>\n",
       "      <th>0</th>\n",
       "      <td>13.616964</td>\n",
       "      <td>5.519842</td>\n",
       "      <td>4.853028</td>\n",
       "      <td>-8.619865</td>\n",
       "      <td>12.856710</td>\n",
       "      <td>7.773365</td>\n",
       "      <td>-7.812922</td>\n",
       "      <td>0.035710</td>\n",
       "      <td>10.521103</td>\n",
       "      <td>1.290677</td>\n",
       "      <td>...</td>\n",
       "      <td>2.475221</td>\n",
       "      <td>-2.530286</td>\n",
       "      <td>2.892201</td>\n",
       "      <td>2.518035</td>\n",
       "      <td>-0.570736</td>\n",
       "      <td>-1.157519</td>\n",
       "      <td>-1.444570</td>\n",
       "      <td>3.542693</td>\n",
       "      <td>2.916374</td>\n",
       "      <td>0</td>\n",
       "    </tr>\n",
       "    <tr>\n",
       "      <th>1</th>\n",
       "      <td>8.413611</td>\n",
       "      <td>-12.968359</td>\n",
       "      <td>22.594993</td>\n",
       "      <td>1.134795</td>\n",
       "      <td>-10.819527</td>\n",
       "      <td>-2.463729</td>\n",
       "      <td>-0.838928</td>\n",
       "      <td>4.557264</td>\n",
       "      <td>-1.171966</td>\n",
       "      <td>-4.158274</td>\n",
       "      <td>...</td>\n",
       "      <td>1.507641</td>\n",
       "      <td>1.077804</td>\n",
       "      <td>4.269874</td>\n",
       "      <td>-0.324190</td>\n",
       "      <td>-2.358904</td>\n",
       "      <td>0.290623</td>\n",
       "      <td>-0.757176</td>\n",
       "      <td>2.410937</td>\n",
       "      <td>-1.148624</td>\n",
       "      <td>1</td>\n",
       "    </tr>\n",
       "    <tr>\n",
       "      <th>2</th>\n",
       "      <td>2.855517</td>\n",
       "      <td>-1.481470</td>\n",
       "      <td>31.391697</td>\n",
       "      <td>1.195570</td>\n",
       "      <td>-1.911764</td>\n",
       "      <td>-5.836886</td>\n",
       "      <td>-2.287078</td>\n",
       "      <td>3.607397</td>\n",
       "      <td>-2.533299</td>\n",
       "      <td>-11.591694</td>\n",
       "      <td>...</td>\n",
       "      <td>1.437987</td>\n",
       "      <td>2.524964</td>\n",
       "      <td>2.672833</td>\n",
       "      <td>0.755494</td>\n",
       "      <td>-3.409581</td>\n",
       "      <td>-1.465659</td>\n",
       "      <td>-2.790655</td>\n",
       "      <td>1.957371</td>\n",
       "      <td>-0.916352</td>\n",
       "      <td>2</td>\n",
       "    </tr>\n",
       "    <tr>\n",
       "      <th>3</th>\n",
       "      <td>23.857436</td>\n",
       "      <td>1.012902</td>\n",
       "      <td>7.317212</td>\n",
       "      <td>-8.024145</td>\n",
       "      <td>-1.032505</td>\n",
       "      <td>14.192235</td>\n",
       "      <td>-5.640512</td>\n",
       "      <td>10.813732</td>\n",
       "      <td>-3.733704</td>\n",
       "      <td>2.344201</td>\n",
       "      <td>...</td>\n",
       "      <td>-0.963641</td>\n",
       "      <td>-2.082290</td>\n",
       "      <td>1.689796</td>\n",
       "      <td>-1.045331</td>\n",
       "      <td>0.464026</td>\n",
       "      <td>-2.733433</td>\n",
       "      <td>-2.172026</td>\n",
       "      <td>1.792544</td>\n",
       "      <td>-1.501660</td>\n",
       "      <td>3</td>\n",
       "    </tr>\n",
       "    <tr>\n",
       "      <th>4</th>\n",
       "      <td>17.107491</td>\n",
       "      <td>-1.355271</td>\n",
       "      <td>-3.947983</td>\n",
       "      <td>-8.060231</td>\n",
       "      <td>1.464014</td>\n",
       "      <td>-0.846935</td>\n",
       "      <td>-1.127652</td>\n",
       "      <td>5.334005</td>\n",
       "      <td>4.623728</td>\n",
       "      <td>4.400413</td>\n",
       "      <td>...</td>\n",
       "      <td>1.477304</td>\n",
       "      <td>1.276868</td>\n",
       "      <td>1.951268</td>\n",
       "      <td>-1.406369</td>\n",
       "      <td>-1.073669</td>\n",
       "      <td>-0.269251</td>\n",
       "      <td>-0.621677</td>\n",
       "      <td>-1.926643</td>\n",
       "      <td>0.278108</td>\n",
       "      <td>4</td>\n",
       "    </tr>\n",
       "  </tbody>\n",
       "</table>\n",
       "<p>5 rows × 40 columns</p>\n",
       "</div>"
      ],
      "text/plain": [
       "         PC0        PC1        PC2       PC3        PC4        PC5       PC6  \\\n",
       "0  13.616964   5.519842   4.853028 -8.619865  12.856710   7.773365 -7.812922   \n",
       "1   8.413611 -12.968359  22.594993  1.134795 -10.819527  -2.463729 -0.838928   \n",
       "2   2.855517  -1.481470  31.391697  1.195570  -1.911764  -5.836886 -2.287078   \n",
       "3  23.857436   1.012902   7.317212 -8.024145  -1.032505  14.192235 -5.640512   \n",
       "4  17.107491  -1.355271  -3.947983 -8.060231   1.464014  -0.846935 -1.127652   \n",
       "\n",
       "         PC7        PC8        PC9  ...      PC30      PC31      PC32  \\\n",
       "0   0.035710  10.521103   1.290677  ...  2.475221 -2.530286  2.892201   \n",
       "1   4.557264  -1.171966  -4.158274  ...  1.507641  1.077804  4.269874   \n",
       "2   3.607397  -2.533299 -11.591694  ...  1.437987  2.524964  2.672833   \n",
       "3  10.813732  -3.733704   2.344201  ... -0.963641 -2.082290  1.689796   \n",
       "4   5.334005   4.623728   4.400413  ...  1.477304  1.276868  1.951268   \n",
       "\n",
       "       PC33      PC34      PC35      PC36      PC37      PC38  target  \n",
       "0  2.518035 -0.570736 -1.157519 -1.444570  3.542693  2.916374       0  \n",
       "1 -0.324190 -2.358904  0.290623 -0.757176  2.410937 -1.148624       1  \n",
       "2  0.755494 -3.409581 -1.465659 -2.790655  1.957371 -0.916352       2  \n",
       "3 -1.045331  0.464026 -2.733433 -2.172026  1.792544 -1.501660       3  \n",
       "4 -1.406369 -1.073669 -0.269251 -0.621677 -1.926643  0.278108       4  \n",
       "\n",
       "[5 rows x 40 columns]"
      ]
     },
     "execution_count": 35,
     "metadata": {},
     "output_type": "execute_result"
    }
   ],
   "source": [
    "pca = PCA(n_components=39)\n",
    "\n",
    "principalComponents = pca.fit_transform(X_train)\n",
    "\n",
    "principalDataframe = pd.DataFrame(data = principalComponents, columns = [ \"PC{j}\".format(j = i) for i in range(39)])\n",
    "targetDataframe    = digits[['target']]\n",
    "\n",
    "newDataframe = pd.concat([principalDataframe, targetDataframe],axis = 1)\n",
    "newDataframe.head()"
   ]
  },
  {
   "cell_type": "markdown",
   "metadata": {},
   "source": [
    "### Comparación"
   ]
  },
  {
   "cell_type": "markdown",
   "metadata": {},
   "source": [
    "Ahora, comparemos los modelos."
   ]
  },
  {
   "cell_type": "code",
   "execution_count": 36,
   "metadata": {},
   "outputs": [],
   "source": [
    "# datos \n",
    "X = digits.drop(columns=\"target\").values\n",
    "y = digits[\"target\"].values\n",
    "\n",
    "train_times        = {}\n",
    "cantidad_atributos = {}"
   ]
  },
  {
   "cell_type": "code",
   "execution_count": 37,
   "metadata": {
    "scrolled": false
   },
   "outputs": [
    {
     "name": "stdout",
     "output_type": "stream",
     "text": [
      "Separando informacion:\n",
      "\n",
      "numero de filas data original :  1797\n",
      "numero de filas train set     :  1437\n",
      "numero de filas test set      :  360\n",
      "##################### KNeighborsClassifier(leaf_size=20, n_neighbors=4) #####################\n",
      "\n",
      "Matriz de confusion:\n",
      " \n",
      "[[32  0  0  0  0  0  0  0  0  0]\n",
      " [ 0 44  0  0  0  0  0  0  0  0]\n",
      " [ 0  0 31  0  0  0  0  0  0  0]\n",
      " [ 0  0  0 35  0  0  0  1  0  0]\n",
      " [ 0  0  0  0 33  0  0  1  1  0]\n",
      " [ 0  0  0  0  0 43  0  0  0  0]\n",
      " [ 0  0  0  0  0  0 35  0  0  0]\n",
      " [ 0  0  0  0  0  0  0 40  0  0]\n",
      " [ 0  1  0  0  0  0  0  0 35  0]\n",
      " [ 0  0  0  0  0  1  0  1  0 26]]\n",
      "\n",
      "Metricas:\n",
      " \n",
      "accuracy:    0.9833333333333333\n",
      "recall:      0.9833333333333333\n",
      "precision:   0.9840395883903637\n",
      "f-score:     0.9833113636560299\n",
      "\n"
     ]
    }
   ],
   "source": [
    "# split dataset\n",
    "X_train, X_test, y_train, y_test = train_test_split(X, y, test_size=0.2, random_state = 2)\n",
    "cantidad_atributos[\"KNC_original\"] = [X_train.shape[1]]\n",
    "\n",
    "# print rows train and test sets\n",
    "print('Separando informacion:\\n')\n",
    "print('numero de filas data original : ',len(X))\n",
    "print('numero de filas train set     : ',len(X_train))\n",
    "print('numero de filas test set      : ',len(X_test))\n",
    "\n",
    "# K-Nearest Neighbours\n",
    "original = KNeighborsClassifier(algorithm = 'auto', leaf_size = 20, n_neighbors = 4, weights = 'uniform')\n",
    "t1 = time.time()\n",
    "original.fit(X_train, y_train)\n",
    "train_times[\"KNC_original\"] = [time.time() - t1]\n",
    "\n",
    "model = original\n",
    "print('##################### {m} #####################'.format(m = str(model)))\n",
    "y_true =  list(y_test)\n",
    "y_pred = list(model.predict(X_test))\n",
    "\n",
    "\n",
    "print('\\nMatriz de confusion:\\n ')\n",
    "print(confusion_matrix(y_true,y_pred))\n",
    "\n",
    "print('\\nMetricas:\\n ')\n",
    "print('accuracy:   ',accuracy_score(y_true,y_pred))\n",
    "print('recall:     ',recall_score(y_true,y_pred,average='weighted'))\n",
    "print('precision:  ',precision_score(y_true,y_pred,average='weighted'))\n",
    "print('f-score:    ',f1_score(y_true,y_pred,average='weighted'))\n",
    "print(\"\")"
   ]
  },
  {
   "cell_type": "code",
   "execution_count": 38,
   "metadata": {},
   "outputs": [
    {
     "name": "stdout",
     "output_type": "stream",
     "text": [
      "##################### KNeighborsClassifier(leaf_size=20, n_neighbors=4) #####################\n",
      "\n",
      "Matriz de confusion:\n",
      " \n",
      "[[32  0  0  0  0  0  0  0  0  0]\n",
      " [ 0 44  0  0  0  0  0  0  0  0]\n",
      " [ 0  0 31  0  0  0  0  0  0  0]\n",
      " [ 0  0  0 35  0  0  0  1  0  0]\n",
      " [ 0  0  0  0 33  0  0  2  0  0]\n",
      " [ 0  0  0  0  0 43  0  0  0  0]\n",
      " [ 0  0  0  0  0  0 35  0  0  0]\n",
      " [ 0  0  0  0  0  0  0 40  0  0]\n",
      " [ 0  1  0  0  0  0  0  0 35  0]\n",
      " [ 0  0  0  0  0  1  0  1  0 26]]\n",
      "\n",
      "Metricas:\n",
      " \n",
      "accuracy:    0.9833333333333333\n",
      "recall:      0.9833333333333333\n",
      "precision:   0.9844682940516274\n",
      "f-score:     0.9834057496956049\n",
      "\n"
     ]
    }
   ],
   "source": [
    "# PCA\n",
    "pca = PCA(n_components=39)\n",
    "\n",
    "X_new = pca.fit_transform(X)\n",
    "\n",
    "X_train, X_test, Y_train, Y_test = train_test_split(X_new, y, test_size=0.2, random_state = 2)\n",
    "cantidad_atributos[\"PCA_39\"] = [X_train.shape[1]]\n",
    "\n",
    "kn_pca = KNeighborsClassifier(algorithm = 'auto', leaf_size = 20, n_neighbors = 4, weights = 'uniform')\n",
    "t1 = time.time()\n",
    "kn_pca.fit(X_train, y_train)\n",
    "\n",
    "\n",
    "train_times[\"PCA_39\"] = [time.time() - t1]\n",
    "\n",
    "model = kn_pca\n",
    "print('##################### {m} #####################'.format(m = str(model)))\n",
    "y_true =  list(y_test)\n",
    "y_pred = list(model.predict(X_test))\n",
    "\n",
    "\n",
    "print('\\nMatriz de confusion:\\n ')\n",
    "print(confusion_matrix(y_true,y_pred))\n",
    "\n",
    "print('\\nMetricas:\\n ')\n",
    "print('accuracy:   ',accuracy_score(y_true,y_pred))\n",
    "print('recall:     ',recall_score(y_true,y_pred,average='weighted'))\n",
    "print('precision:  ',precision_score(y_true,y_pred,average='weighted'))\n",
    "print('f-score:    ',f1_score(y_true,y_pred,average='weighted'))\n",
    "print(\"\")"
   ]
  },
  {
   "cell_type": "code",
   "execution_count": 39,
   "metadata": {
    "scrolled": false
   },
   "outputs": [
    {
     "name": "stdout",
     "output_type": "stream",
     "text": [
      "##################### KNeighborsClassifier(leaf_size=20, n_neighbors=4) #####################\n",
      "\n",
      "Matriz de confusion:\n",
      " \n",
      "[[32  0  0  0  0  0  0  0  0  0]\n",
      " [ 0 44  0  0  0  0  0  0  0  0]\n",
      " [ 0  0 31  0  0  0  0  0  0  0]\n",
      " [ 0  0  0 33  0  0  0  2  0  1]\n",
      " [ 0  0  0  0 31  0  0  3  0  1]\n",
      " [ 0  0  0  1  1 41  0  0  0  0]\n",
      " [ 1  0  0  0  0  0 34  0  0  0]\n",
      " [ 0  0  0  0  0  0  0 40  0  0]\n",
      " [ 0  2  1  0  0  0  0  0 33  0]\n",
      " [ 0  0  0  1  0  0  0  1  0 26]]\n",
      "\n",
      "Metricas:\n",
      " \n",
      "accuracy:    0.9583333333333334\n",
      "recall:      0.9583333333333334\n",
      "precision:   0.9605006260848653\n",
      "f-score:     0.9583436902927607\n",
      "\n"
     ]
    }
   ],
   "source": [
    "# SelectKBest.\n",
    "# atributos: lista de los atributos seleccionados por SelectKBest\n",
    "X_train, X_test, y_train, y_test = train_test_split(digits[atributos], y, test_size=0.2, random_state = 2)\n",
    "cantidad_atributos[\"SKB_KNC\"] = [X_train.shape[1]]\n",
    "\n",
    "# train new model\n",
    "neigh_skb = KNeighborsClassifier(algorithm = 'auto', leaf_size = 20, n_neighbors = 4, weights = 'uniform')\n",
    "t1=time.time()\n",
    "neigh_skb.fit(X_train, y_train)\n",
    "train_times[\"SKB_KNC\"] = [time.time() - t1]\n",
    "\n",
    "model = neigh_skb\n",
    "print('##################### {m} #####################'.format(m = str(model)))\n",
    "y_true =  list(y_test)\n",
    "y_pred = list(model.predict(X_test))\n",
    "\n",
    "\n",
    "print('\\nMatriz de confusion:\\n ')\n",
    "print(confusion_matrix(y_true,y_pred))\n",
    "\n",
    "print('\\nMetricas:\\n ')\n",
    "print('accuracy:   ',accuracy_score(y_true,y_pred))\n",
    "print('recall:     ',recall_score(y_true,y_pred,average='weighted'))\n",
    "print('precision:  ',precision_score(y_true,y_pred,average='weighted'))\n",
    "print('f-score:    ',f1_score(y_true,y_pred,average='weighted'))\n",
    "print(\"\")"
   ]
  },
  {
   "cell_type": "code",
   "execution_count": 40,
   "metadata": {},
   "outputs": [
    {
     "name": "stdout",
     "output_type": "stream",
     "text": [
      "Los tiempos de entrenamiento son: \n",
      "KNC_original: 0.028579235076904297\n",
      "PCA_39:       0.015625953674316406\n",
      "SKB_KNC:      0.015964031219482422\n"
     ]
    }
   ],
   "source": [
    "print(\"Los tiempos de entrenamiento son: \")\n",
    "print(\"KNC_original: \"+str(train_times[\"KNC_original\"][0]))\n",
    "print(\"PCA_39:       \"+str(train_times[\"PCA_39\"][0]))\n",
    "print(\"SKB_KNC:      \"+str(train_times[\"SKB_KNC\"][0]))"
   ]
  },
  {
   "cell_type": "code",
   "execution_count": 41,
   "metadata": {
    "scrolled": true
   },
   "outputs": [
    {
     "name": "stdout",
     "output_type": "stream",
     "text": [
      "La cantidad de atributos considerados del dataset son: \n",
      "KNC_original: 64\n",
      "PCA_39:       39\n",
      "SKB_KNC:      20\n"
     ]
    }
   ],
   "source": [
    "print(\"La cantidad de atributos considerados del dataset son: \")\n",
    "print(\"KNC_original: \"+str(cantidad_atributos[\"KNC_original\"][0]))\n",
    "print(\"PCA_39:       \"+str(cantidad_atributos[\"PCA_39\"][0]))\n",
    "print(\"SKB_KNC:      \"+str(cantidad_atributos[\"SKB_KNC\"][0]))"
   ]
  },
  {
   "cell_type": "code",
   "execution_count": 42,
   "metadata": {
    "scrolled": true
   },
   "outputs": [],
   "source": [
    "#plt.figure(figsize=(12,4))\n",
    "#plt.bar(x= range(1,4), height=list(cantidad_atributos.values()), tick_label=list(cantidad_atributos.keys()))\n",
    "#plt.ylabel('Modelo')\n",
    "#plt.xlabel('Número de atributos')\n",
    "#plt.title('Gráfica comparativa')\n",
    "#plt.show()"
   ]
  },
  {
   "cell_type": "code",
   "execution_count": 43,
   "metadata": {},
   "outputs": [
    {
     "data": {
      "text/plain": [
       "array([64, 39, 20])"
      ]
     },
     "execution_count": 43,
     "metadata": {},
     "output_type": "execute_result"
    }
   ],
   "source": [
    "np.array(list(cantidad_atributos.values())).T[0]"
   ]
  },
  {
   "cell_type": "code",
   "execution_count": 44,
   "metadata": {
    "scrolled": true
   },
   "outputs": [
    {
     "data": {
      "image/png": "[encoded data removed]",
      "text/plain": [
       "<Figure size 1080x360 with 2 Axes>"
      ]
     },
     "metadata": {
      "needs_background": "light"
     },
     "output_type": "display_data"
    }
   ],
   "source": [
    "# Figure\n",
    "fig, axs = plt.subplots(1, 2 , figsize=(15, 5) )\n",
    "\n",
    "nombres = list(cantidad_atributos.keys())\n",
    "datos   = np.array(list(cantidad_atributos.values())).T[0]\n",
    "xx = range(len(datos))\n",
    "axs[0].set_title('Número de atributos')\n",
    "axs[0].bar(xx, datos, width=0.8, align='center')\n",
    "axs[0].set_xticks(xx)\n",
    "axs[0].set_xticklabels(nombres)\n",
    "\n",
    "\n",
    "datos   = np.array(list(train_times.values())).T[0]\n",
    "axs[1].set_title('Tiempo de entrenamiento')\n",
    "axs[1].bar(xx, datos, width=0.8, align='center')\n",
    "axs[1].set_xticks(xx)\n",
    "axs[1].set_xticklabels(nombres)\n",
    "plt.show()"
   ]
  },
  {
   "cell_type": "markdown",
   "metadata": {},
   "source": [
    "### Ejercicio 6\n",
    "\n",
    "\n",
    "__Visualizando Resultados:__ A continuación se provee código para comparar las etiquetas predichas vs las etiquetas reales del conjunto de _test_. \n"
   ]
  },
  {
   "cell_type": "code",
   "execution_count": 45,
   "metadata": {},
   "outputs": [],
   "source": [
    "def mostar_resultados(digits,model,nx=3, ny=3,label = \"correctos\"):\n",
    "    \"\"\"\n",
    "    Muestra los resultados de las prediciones de un modelo \n",
    "    de clasificacion en particular. Se toman aleatoriamente los valores\n",
    "    de los resultados.\n",
    "    \n",
    "    - label == 'correcto': retorna los valores en que el modelo acierta.\n",
    "    - label == 'incorrecto': retorna los valores en que el modelo no acierta.\n",
    "\n",
    "    \n",
    "    Observacion: El modelo que recibe como argumento debe NO encontrarse\n",
    "    'entrenado'.\n",
    "    \n",
    "    \n",
    "    :param digits: dataset 'digits'\n",
    "    :param model:  modelo de sklearn\n",
    "    :param nx:     numero de filas (subplots)\n",
    "    :param ny:     numero de columnas (subplots)\n",
    "    :param label:  datos correctos o incorrectos\n",
    "    \n",
    "    :return: graficos matplotlib\n",
    "    \"\"\"\n",
    "    digits_dict = datasets.load_digits()\n",
    "    digits = (\n",
    "    pd.DataFrame(\n",
    "        digits_dict[\"data\"],\n",
    "    )\n",
    "    .rename(columns=lambda x: f\"c{x:02d}\")\n",
    "    .assign(target=digits_dict[\"target\"])\n",
    "    .astype(int)\n",
    "    )\n",
    "\n",
    "    X = digits.drop(columns=\"target\").values\n",
    "    y = digits[\"target\"].values\n",
    "    X_train, X_test, Y_train, Y_test = train_test_split(X, y, test_size=0.2, random_state = 42) \n",
    "    model.fit(X_train, Y_train) # ajustando el modelo\n",
    "    y_pred = list(model.predict(X_test))\n",
    "\n",
    "    \n",
    "    # Mostrar los datos correctos\n",
    "    if label==\"correctos\":\n",
    "        mask = (y_pred == y_test)\n",
    "        color = \"green\"\n",
    "        \n",
    "    # Mostrar los datos correctos\n",
    "    elif label==\"incorrectos\":\n",
    "        mask = (y_pred != y_test)\n",
    "        color = \"red\"\n",
    "    \n",
    "    else:\n",
    "        raise ValueError(\"Valor incorrecto\")\n",
    "        \n",
    "    X_aux = X_test[mask]\n",
    "    y_aux_true = np.array(y_test)[mask]\n",
    "    y_aux_pred = np.array(y_pred)[mask]\n",
    "\n",
    "    # We'll plot the first 100 examples, randomly choosen\n",
    "    fig, ax = plt.subplots(nx, ny, figsize=(12,12))\n",
    "    for i in range(nx):\n",
    "        for j in range(ny):\n",
    "            index = j + ny * i\n",
    "            data  = X_aux[index, :].reshape(8,8)\n",
    "            label_pred = str(int(y_aux_pred[index]))\n",
    "            label_true = str(int(y_aux_true[index]))\n",
    "            ax[i][j].imshow(data, interpolation='nearest', cmap='gray_r')\n",
    "            ax[i][j].text(0, 0, label_pred, horizontalalignment='center', verticalalignment='center', fontsize=10, color=color)\n",
    "            ax[i][j].text(7, 0, label_true, horizontalalignment='center', verticalalignment='center', fontsize=10, color='blue')\n",
    "            ax[i][j].get_xaxis().set_visible(False)\n",
    "            ax[i][j].get_yaxis().set_visible(False)\n",
    "    plt.show()"
   ]
  },
  {
   "cell_type": "markdown",
   "metadata": {},
   "source": [
    "**Pregunta**\n",
    "\n",
    "* Tomando en cuenta el mejor modelo entontrado en el `Ejercicio 3`, grafique los resultados cuando:\n",
    " * el valor predicho y original son iguales\n",
    " * el valor predicho y original son distintos \n",
    "\n",
    "\n",
    "* Cuando el valor predicho y original son distintos ,  ¿Por qué ocurren estas fallas?"
   ]
  },
  {
   "cell_type": "code",
   "execution_count": 46,
   "metadata": {
    "scrolled": false
   },
   "outputs": [
    {
     "data": {
      "image/png": "[encoded data removed]",
      "text/plain": [
       "<Figure size 864x864 with 25 Axes>"
      ]
     },
     "metadata": {
      "needs_background": "light"
     },
     "output_type": "display_data"
    },
    {
     "data": {
      "image/png": "[encoded data removed]",
      "text/plain": [
       "<Figure size 864x864 with 25 Axes>"
      ]
     },
     "metadata": {
      "needs_background": "light"
     },
     "output_type": "display_data"
    }
   ],
   "source": [
    "model = KNeighborsClassifier(leaf_size = 20, n_neighbors = 4, weights = 'uniform')\n",
    "mostar_resultados(digits, model, nx=5, ny=5, label = \"correctos\")\n",
    "mostar_resultados(digits, model, nx=5, ny=5, label = \"incorrectos\")"
   ]
  },
  {
   "cell_type": "markdown",
   "metadata": {},
   "source": [
    "### Ejercicio 7\n",
    "**Conclusiones**: Entrega tu veredicto, responde las preguntas iniciales, visualizaciones, trabajos futuros, dificultades, etc."
   ]
  },
  {
   "cell_type": "markdown",
   "metadata": {},
   "source": [
    "Primero, dado que conocimos la visualización de datos, la primera impresión que nos entregó es que con tan poca información como lo era una foto de 8x8 bytes era que difícilmente nuestro modelo sería capaz de clasificar correctamente, no obstante si fue capaz.\n",
    "\n",
    "Segundo, del apartado 6, podemos rescatar que nuestro modelo ya era preciso aún disminuyendo el número de atributos a 20, es decir, quitando derechamente como tal pixeles de nuestras fotos pertenecientes al dataset.\n",
    "\n",
    "En conclusión y sumado a todo lo anterior, cualquiera podría pensar que se necesitaría una alta resolución sobre la captura de datos para entrenar un modelo robusto, para lo cual demostramos lo contrario contra toda intuición. \n",
    "\n",
    "Entonces, para trabajos futuros se podría pensar en simplemente una captura de datos que no necesariamente involcre una gran resolución o no invertir en agentes de gran fidelidad, siendo que bastaba una resolución de 8x8."
   ]
  }
 ],
 "metadata": {
  "kernelspec": {
   "display_name": "Python 3",
   "language": "python",
   "name": "python3"
  },
  "language_info": {
   "codemirror_mode": {
    "name": "ipython",
    "version": 3
   },
   "file_extension": ".py",
   "mimetype": "text/x-python",
   "name": "python",
   "nbconvert_exporter": "python",
   "pygments_lexer": "ipython3",
   "version": "3.8.3"
  },
  "latex_envs": {
   "LaTeX_envs_menu_present": true,
   "autoclose": false,
   "autocomplete": true,
   "bibliofile": "biblio.bib",
   "cite_by": "apalike",
   "current_citInitial": 1,
   "eqLabelWithNumbers": true,
   "eqNumInitial": 1,
   "hotkeys": {
    "equation": "Ctrl-E",
    "itemize": "Ctrl-I"
   },
   "labels_anchors": false,
   "latex_user_defs": false,
   "report_style_numbering": false,
   "user_envs_cfg": false
  }
 },
 "nbformat": 4,
 "nbformat_minor": 4
}
